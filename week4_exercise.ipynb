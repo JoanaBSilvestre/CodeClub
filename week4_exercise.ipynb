{
 "cells": [
  {
   "cell_type": "markdown",
   "metadata": {},
   "source": [
    "# Welcome to our penultimate code club session!\n",
    "Let's start with some recap\n",
    "<br>Remember lists?\n",
    "<br>Here's one interesting one: top 5 movies of all time according to Rotten Tomatoes"
   ]
  },
  {
   "cell_type": "code",
   "execution_count": 1,
   "metadata": {},
   "outputs": [],
   "source": [
    "top5=[\"Black Panter\", \"Lady Bird\", \"Citizen Kane\", \"The Wizard of Oz\", \"BlacKKKlansman\"]"
   ]
  },
  {
   "cell_type": "markdown",
   "metadata": {},
   "source": [
    "The rating of those movies according to RT is 97, 99, 100, 98 and 96 respectively\n",
    "<br>The directors of the above mentioned movies are Ryan Coogler, Greta Gerwig, Orson Welles, Victor Fleming and Spike Lee\n",
    "<br> Now create two lists with this information. "
   ]
  },
  {
   "cell_type": "code",
   "execution_count": null,
   "metadata": {},
   "outputs": [],
   "source": []
  },
  {
   "cell_type": "code",
   "execution_count": null,
   "metadata": {},
   "outputs": [],
   "source": []
  },
  {
   "cell_type": "markdown",
   "metadata": {},
   "source": [
    "Now that we have 3 lists that are about the same \"thing\".\n",
    "<br>How can we \"bind\" them?\n",
    "<br>What if we did a list that contained all those 3 lists?\n",
    "<br>Try that bellow."
   ]
  },
  {
   "cell_type": "code",
   "execution_count": null,
   "metadata": {},
   "outputs": [],
   "source": []
  },
  {
   "cell_type": "markdown",
   "metadata": {},
   "source": [
    "#### List of lists\n",
    "Now you just crested a nested list."
   ]
  },
  {
   "cell_type": "markdown",
   "metadata": {},
   "source": [
    "So, as you can see, this is pretty much like a table.\n",
    "<br><br>But then you might ask, how does one access the elements on this list?\n",
    "<br>You use a notation like the following:\n",
    "<br>listName\\[A\\]\\[B\\]\n",
    "<br>In which **A** will mean the position in the most \"outside\" list and **B**, the position in the following level.\n",
    "<br><br>What does this mean?\n",
    "<br>Means that if you want to access, for example, the movie \"The Wizard of Oz\", you'd access the first list (**bigListName\\[0\\]**) and then the 4th element of that list (**bigListName\\[0\\]\\[3\\]**).\n",
    "<br><br>Now you go and write the command to retrieve the director of \"Wizard of Oz\"."
   ]
  },
  {
   "cell_type": "code",
   "execution_count": null,
   "metadata": {},
   "outputs": [],
   "source": []
  },
  {
   "cell_type": "markdown",
   "metadata": {},
   "source": [
    "**I got it.. but I actually want a table!**\n",
    "<br>Well, good news for you, there's a package in Python that is made to deal with them.\n",
    "<br>It's called *pandas*"
   ]
  },
  {
   "cell_type": "markdown",
   "metadata": {},
   "source": [
    "Let's load this package.\n",
    "<br><br>We will use the same **import** command that we used before, but with a tiny modification.\n",
    "<br>Since \"pandas\" is rather long and I'm lazy to type, I want to refer to it by \"pd\" after I have imported this package.\n",
    "<br>How do I do this?\n",
    "<br>By *import packageName* **as newName**\n",
    "<br><br>So, type in what you need to use pandas with a shorter namesake (tip, the most used shortened name for **pandas** is **pd**)"
   ]
  },
  {
   "cell_type": "code",
   "execution_count": null,
   "metadata": {},
   "outputs": [],
   "source": []
  },
  {
   "cell_type": "markdown",
   "metadata": {},
   "source": [
    "Then we'll read a table from a file."
   ]
  },
  {
   "cell_type": "code",
   "execution_count": 8,
   "metadata": {},
   "outputs": [],
   "source": [
    "#First let's store the complete path to file in a variable\n",
    "file=\"/path/to/file/hills.csv\""
   ]
  },
  {
   "cell_type": "markdown",
   "metadata": {},
   "source": [
    "And now we need to find out how to use this <i>Pandas</i>:\n",
    "<br>A simple google search will lead us to the webpage of the Pandas package.\n",
    "<br>The usage is \n",
    "<br><br>pd.read_table( file_name,  sep = type_of_separator,  header = row_to_use_as_colname  \\[<i>0 for first</i>\\],  index_col = \\<col_to_use_as_rowname\\> \\[<i>0 for first</i>\\] )"
   ]
  },
  {
   "cell_type": "markdown",
   "metadata": {},
   "source": [
    "#### Let's make some comments about the above code.\n",
    " - You call it by \"pd.read_table(<filename>)\"</br>\n",
    " - The arguments inside the brackets have different meanings\n",
    " - The first thing in the code is the file name **complete with path**\n",
    " - sep = typeOfSeparator is what separates one element from the other in your file (in case of a CSV file, it's a comma, but can also be a tab, a space, or anything, really)\n",
    " - header = 'infer' will try to guess if there is a header, '0' will use the first row as the header\n",
    " - index_col = 0 will set the very first column as the row names"
   ]
  },
  {
   "cell_type": "markdown",
   "metadata": {},
   "source": [
    "Now it's your turn: read the file called hills.csv into a table using pandas, and save it to a variable"
   ]
  },
  {
   "cell_type": "code",
   "execution_count": null,
   "metadata": {},
   "outputs": [],
   "source": []
  },
  {
   "cell_type": "markdown",
   "metadata": {},
   "source": [
    "Now that you have imported this table (that from now on we will call data frame), you may have noticed that unlike as lists of lists, this data frame is actually organised **as a table**.\n",
    "### But how can you access an element?\n",
    "There are 3 main ways:\n",
    "#### By columns and row names (column name first)\n",
    "The command is *dataFrameName\\[columnName\\]\\[rowName\\]*"
   ]
  },
  {
   "cell_type": "code",
   "execution_count": null,
   "metadata": {},
   "outputs": [],
   "source": []
  },
  {
   "cell_type": "markdown",
   "metadata": {},
   "source": [
    "#### By row and column name (row name first)\n",
    "The command is *dataFrameName.loc\\[rowName\\]\\[columnName\\]*"
   ]
  },
  {
   "cell_type": "code",
   "execution_count": null,
   "metadata": {},
   "outputs": [],
   "source": []
  },
  {
   "cell_type": "markdown",
   "metadata": {},
   "source": [
    "#### By localisation (row index first)\n",
    "The command is *dataFrameName.iloc\\[rowIndex\\]\\[ColumnIndex\\]*"
   ]
  },
  {
   "cell_type": "code",
   "execution_count": null,
   "metadata": {},
   "outputs": [],
   "source": []
  },
  {
   "cell_type": "markdown",
   "metadata": {},
   "source": [
    "### Functions in data frames\n",
    "You can use functions to make your life easier.\n",
    "<br>One good example is *Data.Frame.mean*"
   ]
  },
  {
   "cell_type": "markdown",
   "metadata": {},
   "source": [
    "If you type:\n",
    "<br><br><i>pd.DataFrame.mean(**name of your table**)</i>\n",
    "<br><br>You will get the mean of all columns.\n",
    "<br>But you can also store this value in a variable.\n",
    "<br>Calculate the means and store it in a variable called \"m\""
   ]
  },
  {
   "cell_type": "code",
   "execution_count": null,
   "metadata": {},
   "outputs": [],
   "source": []
  },
  {
   "cell_type": "markdown",
   "metadata": {},
   "source": [
    "Now that you know how to access a specific column, how would you calculate the mean of only time?"
   ]
  },
  {
   "cell_type": "code",
   "execution_count": null,
   "metadata": {},
   "outputs": [],
   "source": []
  },
  {
   "cell_type": "markdown",
   "metadata": {},
   "source": [
    "But you can also take that table with means and access the mean of only time. How would you do that?"
   ]
  },
  {
   "cell_type": "code",
   "execution_count": null,
   "metadata": {},
   "outputs": [],
   "source": []
  },
  {
   "cell_type": "markdown",
   "metadata": {},
   "source": [
    "There are other interesting functions that you can use with your table.\n",
    "<br>*DataFrame.std* calculates the Standard deviation for you\n",
    "<br><br>Use this command, calculate the standard deviation and store in a variable called \"sd\""
   ]
  },
  {
   "cell_type": "code",
   "execution_count": null,
   "metadata": {},
   "outputs": [],
   "source": []
  },
  {
   "cell_type": "markdown",
   "metadata": {},
   "source": [
    "And you can access it them using that same logic:\n",
    "<br>The first element (the stdev of distance) will be stored in sd\\['distance'\\] and so on.\n",
    "<br><br>Now that we know we can work with lists and tables, why not trying to graph it?\n",
    "# Graphs in Python\n",
    "Yes, you can make graphs in Python and they look pretty cool.\n",
    "<br>For this you will need yet other packages.\n",
    "<br><br>Since you already know how to import packages, I'll give you just a hint..\n",
    "<br>The first package you need is called <i>matplotlib</i> (but we use it as *plt*)\n",
    "<br>The second is part of Matplotlib, but you need to import ir separetely: <i>matplotlib.pyplot</i> (and we use it as *mpl*)\n",
    "<br>The third is *numpy* (and we use it as *np*)"
   ]
  },
  {
   "cell_type": "code",
   "execution_count": null,
   "metadata": {},
   "outputs": [],
   "source": []
  },
  {
   "cell_type": "markdown",
   "metadata": {},
   "source": [
    "We can call a plot in very simple way:\n",
    "<br><b>tableName.plot()</b>"
   ]
  },
  {
   "cell_type": "code",
   "execution_count": null,
   "metadata": {},
   "outputs": [],
   "source": []
  },
  {
   "cell_type": "markdown",
   "metadata": {},
   "source": [
    "This simple command will plot all variables (dist, climb and time) and will assign different colours to them.\n",
    "<br>However, you perhaps want to have a prettier graph or maybe you don't want to plot everything together.\n",
    "<br>Let's say you are very interest in the distance. Let's plot that.\n",
    "<br><br>This works by specifying what column you want plotted."
   ]
  },
  {
   "cell_type": "code",
   "execution_count": null,
   "metadata": {},
   "outputs": [],
   "source": []
  },
  {
   "cell_type": "markdown",
   "metadata": {},
   "source": [
    "There we have it.\n",
    "<br>But this is far from looking pretty.\n",
    "<br>Let's make some minor modifications. First, let's plot this as a bar plot.\n",
    "<br><br>This achieved by adding some specifications inside the brackets after <i>plot</i>\n",
    "<br><br>Try <i>table['column'].plot(kind='bar')</i>"
   ]
  },
  {
   "cell_type": "code",
   "execution_count": null,
   "metadata": {},
   "outputs": [],
   "source": []
  },
  {
   "cell_type": "markdown",
   "metadata": {},
   "source": [
    "We have the bars now, and this automatically gave us the labels on the x axis. \n",
    "<br>But.. are we happy with these colours?\n",
    "<br>Well, I'm not and I'd like to have all bars with the same colour, and I'd like them to be blue.\n",
    "<br><br>This is quite easy to achieve. After specifying the kind of plot, specify the colour. \n",
    "<br>Unfortunately, you'll have to use the US spelling and type <i>color='whatever you want'</i>"
   ]
  },
  {
   "cell_type": "code",
   "execution_count": null,
   "metadata": {},
   "outputs": [],
   "source": []
  },
  {
   "cell_type": "markdown",
   "metadata": {},
   "source": [
    "Now that you know how everything works, let's find out how would we do to plot the distance and the time together, grouped by the hill name.\n",
    "<br>If you thought \"google\", you're very correct. Type in \"matplotlib grouped bar chart\""
   ]
  },
  {
   "cell_type": "markdown",
   "metadata": {},
   "source": [
    "Try to understand what each part of the code is doing and reproduce what you understood bellow.\n",
    "<br>"
   ]
  },
  {
   "cell_type": "code",
   "execution_count": null,
   "metadata": {
    "scrolled": true
   },
   "outputs": [],
   "source": []
  },
  {
   "cell_type": "markdown",
   "metadata": {},
   "source": [
    "### How was that?\n",
    "What was hard and what was easy?\n",
    "<br>If we got to the end of this exercise, this means my whole goal for code club is completed.\n",
    "<br>What things do you want to learn more about?"
   ]
  }
 ],
 "metadata": {
  "kernelspec": {
   "display_name": "Python 3",
   "language": "python",
   "name": "python3"
  },
  "language_info": {
   "codemirror_mode": {
    "name": "ipython",
    "version": 3
   },
   "file_extension": ".py",
   "mimetype": "text/x-python",
   "name": "python",
   "nbconvert_exporter": "python",
   "pygments_lexer": "ipython3",
   "version": "3.6.7"
  }
 },
 "nbformat": 4,
 "nbformat_minor": 2
}
