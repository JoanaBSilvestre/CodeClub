{
 "cells": [
  {
   "cell_type": "markdown",
   "metadata": {},
   "source": [
    "# Starting with Python\n",
    "</br>Python is a coding laguage just like any other. \n",
    "</br>Of course each one has their strengths and weaknesses, but this is my favourite language to program.\n",
    "</br>Why? No specific reason. I just find it easier to understand."
   ]
  },
  {
   "cell_type": "markdown",
   "metadata": {},
   "source": [
    "# Let's start coding!\n",
    "\n",
    "And this begins by learning how to write a comment"
   ]
  },
  {
   "cell_type": "code",
   "execution_count": 36,
   "metadata": {},
   "outputs": [],
   "source": [
    "#In python, if you start any line with a hash, it is a comment, and won't execute\n",
    "#It's useful if you want to say to yourself what your code is doing, and it helps anyone who is reading your code"
   ]
  },
  {
   "cell_type": "markdown",
   "metadata": {},
   "source": [
    "And you can write your first line of code by typing some simple commands.\n",
    "<br>Start with *print* followed by brackets. Inside them, write \"Hello World\" and don't forget the quotes.\n",
    "<br>It will look like *print(\"Hello World\")*\n",
    "<br>After you type your command, press the run button."
   ]
  },
  {
   "cell_type": "code",
   "execution_count": null,
   "metadata": {},
   "outputs": [],
   "source": []
  },
  {
   "cell_type": "markdown",
   "metadata": {},
   "source": [
    "Well Done! You just wrote your first line of code in Python!\n",
    "<br>What this code is doing is very simple: it's is giving instructions to the computer.\n",
    "<br>It says print on the screen, and here is the text I'd like you to print.\n",
    "#### But what if we want to save information?\n",
    "For that we *assign* a value to a variable.\n",
    "<br>And **how** do we do it?\n",
    "<br>By typing an **=** between them.\n",
    "<br>The asssignment direction is always from right to left.\n",
    "<br>Words are between quotes and numbers don't need them.\n",
    "<br>This means that if you type *x=\"Hello\"*, the value *\"Hello\"* will be assigned to the variable *x*."
   ]
  },
  {
   "cell_type": "markdown",
   "metadata": {},
   "source": [
    "#### Let's try it!\n",
    "Assign your name to the variable n"
   ]
  },
  {
   "cell_type": "code",
   "execution_count": 2,
   "metadata": {},
   "outputs": [],
   "source": []
  },
  {
   "cell_type": "markdown",
   "metadata": {},
   "source": [
    "And now print it with the *print(variable)* command"
   ]
  },
  {
   "cell_type": "code",
   "execution_count": null,
   "metadata": {},
   "outputs": [],
   "source": []
  },
  {
   "cell_type": "markdown",
   "metadata": {},
   "source": [
    "#### And now let's assign a number to a variable\n",
    "Let's say we want the variable *num* to be *5*"
   ]
  },
  {
   "cell_type": "code",
   "execution_count": 5,
   "metadata": {},
   "outputs": [],
   "source": []
  },
  {
   "cell_type": "markdown",
   "metadata": {},
   "source": [
    "And now print this variable"
   ]
  },
  {
   "cell_type": "code",
   "execution_count": null,
   "metadata": {},
   "outputs": [],
   "source": []
  },
  {
   "cell_type": "markdown",
   "metadata": {},
   "source": [
    "A we've seen it, there can be words and numbers in Python. But maybe we should formalise these concepts."
   ]
  },
  {
   "cell_type": "markdown",
   "metadata": {},
   "source": [
    "# Data types\n",
    "There's a part of any programing language that is a bit iffy, and that is learning the correct names of \"things\".\n",
    "<br>So let's get some basics here \n",
    " \n",
    " - Numbers \n",
    "     - can be integers (that from now on we will call *int* - like 1 or 243)  \n",
    "     - decimals (that we from now on will call *float* - like 4.3 or 78.2109765)\n",
    "     - or complex numbers (we won't cover that)\n",
    " - String - a series of characters (like \"Hello\" or \"I love learning some Pyhton programming. It is so fun!\"). You can even have numbers written as strings, which means you can't do math with them, because they will be treated as words.\n",
    "    - You make anything a string by putting it between \"\" or ''\n",
    "    - You make the computer ignore the ' as a mark for the start/end of a string by using **\\\\** before it.\n",
    "    - Example : 'Today\\\\'s menu'\n",
    "    - This backwards slash: **\\\\**  is called escape, and can be used to tell the computer to interpret something as a command or as a character\n",
    "\n",
    "<br> Don't worry if all of this seems too much. You can always go back to it and consult it."
   ]
  },
  {
   "cell_type": "markdown",
   "metadata": {},
   "source": [
    "### Let's practice a bit now!\n",
    "Write one short sentence and assign it to a variable."
   ]
  },
  {
   "cell_type": "code",
   "execution_count": null,
   "metadata": {},
   "outputs": [],
   "source": []
  },
  {
   "cell_type": "markdown",
   "metadata": {},
   "source": [
    "Now print this variable"
   ]
  },
  {
   "cell_type": "code",
   "execution_count": null,
   "metadata": {},
   "outputs": [],
   "source": []
  },
  {
   "cell_type": "markdown",
   "metadata": {},
   "source": [
    "And now write another short sentence, this time, one that needs an apostrophe, so you can practice it.\n",
    "<br>Assign that sentence to a variable and then print it"
   ]
  },
  {
   "cell_type": "code",
   "execution_count": null,
   "metadata": {},
   "outputs": [],
   "source": []
  },
  {
   "cell_type": "code",
   "execution_count": null,
   "metadata": {},
   "outputs": [],
   "source": []
  },
  {
   "cell_type": "markdown",
   "metadata": {},
   "source": [
    "# Naming conventions\n",
    "As you might name noticed, you can name your variables pretty much anything.\n",
    "<br>You might be tempted to go crazy and name them <i>aWs0mEXxX</i> or <i>COOLvariable21</i>, but why not keep it logical and tidy?\n",
    "<br>It'll make your life easier, and your code prettier.\n",
    "<br><br>So, here are some rules in variable naming:\n",
    "- There are no spaces in variable names, neither are points, commas, semi-colons, colons, asterisks, or other symbols (underscore is the only exception).\n",
    "- Usually variables start with small letters\n",
    "- And if the variable name contains more than one word, we just use capital on the next word. As an example: dateOfBirth is the name of a variable.\n",
    "- Don't start any variable name with a number. 1word is **not ok**, but word1 is.\n",
    "- Keep variable names meaningful. If everything is named \"a\", \"b\" or \"c\" you wont know what you're writing about later."
   ]
  },
  {
   "cell_type": "markdown",
   "metadata": {},
   "source": [
    "And now let's\n",
    "# Manipulate numbers in Python\n",
    "That same variable that we have just assigned a value to (*num*), will serve us right.\n",
    "<br>We can start by printing it, so we can check the value"
   ]
  },
  {
   "cell_type": "code",
   "execution_count": null,
   "metadata": {},
   "outputs": [],
   "source": []
  },
  {
   "cell_type": "markdown",
   "metadata": {},
   "source": [
    "Great! It's indeed 5, just like we expected.\n",
    "<br>Now let's add 1 to this variable and see what happens"
   ]
  },
  {
   "cell_type": "code",
   "execution_count": null,
   "metadata": {},
   "outputs": [],
   "source": []
  },
  {
   "cell_type": "markdown",
   "metadata": {},
   "source": [
    "We can also mutiply it. You can try multiplying our variable by 3, for example."
   ]
  },
  {
   "cell_type": "code",
   "execution_count": null,
   "metadata": {},
   "outputs": [],
   "source": []
  },
  {
   "cell_type": "markdown",
   "metadata": {},
   "source": [
    "We could also elevate it to the power of 3. How do we do it? \n",
    "<br>If we would write **a\\*\\*b**, this would mean **a** elevated to the power of **b**."
   ]
  },
  {
   "cell_type": "code",
   "execution_count": null,
   "metadata": {},
   "outputs": [],
   "source": []
  },
  {
   "cell_type": "markdown",
   "metadata": {},
   "source": [
    "**But watch out for divisions!!!**\n",
    "<br>There are several to do divisions in Python 3 (yes, there are several versions of Python)\n",
    "<br>Let's start with the most common one, a simple division aka \"true division\". \n",
    "<br>Assing an odd number to the variable **x** and try dividing it by 2."
   ]
  },
  {
   "cell_type": "code",
   "execution_count": null,
   "metadata": {},
   "outputs": [],
   "source": []
  },
  {
   "cell_type": "code",
   "execution_count": null,
   "metadata": {},
   "outputs": [],
   "source": []
  },
  {
   "cell_type": "markdown",
   "metadata": {},
   "source": [
    "What happened?\n",
    "<br>\n",
    "<br>What if we use **//** instead of **/**?"
   ]
  },
  {
   "cell_type": "code",
   "execution_count": null,
   "metadata": {},
   "outputs": [],
   "source": []
  },
  {
   "cell_type": "markdown",
   "metadata": {},
   "source": [
    "What do you think it's happening?"
   ]
  },
  {
   "cell_type": "markdown",
   "metadata": {},
   "source": [
    "This type of division is called \"floor division\" and returns an integer.\n",
    "<br>There are other types of division, but let's move on for now."
   ]
  },
  {
   "cell_type": "markdown",
   "metadata": {},
   "source": [
    "### And what about more complex mathematical operations?\n",
    "For that, we should use a specific package called... *math*.\n",
    "<br>Wow, that name was a surprise :)\n",
    "###### Now let's incorporate that package, but how?\n",
    "Just type **import**, a space and the name of the package you'd like to import\n",
    "<br>Use the command in the box bellow."
   ]
  },
  {
   "cell_type": "code",
   "execution_count": null,
   "metadata": {},
   "outputs": [],
   "source": []
  },
  {
   "cell_type": "markdown",
   "metadata": {},
   "source": [
    "And now you're good to go. \n",
    "<br>You can call *math* plus any function you want.\n",
    "<br>Every time you are not very aware of what functions a package has, I suggest the good and old <i>Google</i>.\n",
    "<br>In our case, I will give you a tip:\n",
    "<br><i>math.pi</i> gives you pi\n",
    "<br><i>math.sqrt</i> gives you the square root of a number - usage is pretty much <i>math.sqrt(number)</i>\n",
    "<br><br>Now lets test it ourselves.\n",
    "<br>Let's first print the value of pi"
   ]
  },
  {
   "cell_type": "code",
   "execution_count": null,
   "metadata": {},
   "outputs": [],
   "source": []
  },
  {
   "cell_type": "markdown",
   "metadata": {},
   "source": [
    "<br>And now let's find our the square root of pi"
   ]
  },
  {
   "cell_type": "code",
   "execution_count": null,
   "metadata": {},
   "outputs": [],
   "source": []
  },
  {
   "cell_type": "markdown",
   "metadata": {},
   "source": [
    "An import question thay may have arisen is: how do I know what is available in any package?\n",
    "<br> As a scientist, I bet you know the answer: **Google**!!!\n",
    "<br> For example, search for [math documentation python](https://www.google.co.uk/search?q=math+documentation+python&oq=math+documentation+python&aqs=chrome..69i57.4064j1j7&sourceid=chrome&ie=UTF-8)\n",
    "<br>The very first entry tells you everything you need"
   ]
  },
  {
   "cell_type": "markdown",
   "metadata": {},
   "source": [
    "Enough about maths!\n",
    "Now let's..\n",
    "# Manipulate strings in Python\n",
    "Sometimes we want to add one string to another. How to do it?\n",
    "<br> First of all, let's get the name correctly: \"Adding one string to the other\" is called concatenation, and you can do it using a plus sign (+) between strings\n",
    "<br><br>Now it's your turn.. assign \"Hello\", a space (tip: it's \" \" - literally a space between quotes) and \"world\" to variables, add them together and print the whole thing"
   ]
  },
  {
   "cell_type": "code",
   "execution_count": null,
   "metadata": {},
   "outputs": [],
   "source": []
  },
  {
   "cell_type": "code",
   "execution_count": null,
   "metadata": {},
   "outputs": [],
   "source": []
  },
  {
   "cell_type": "code",
   "execution_count": null,
   "metadata": {},
   "outputs": [],
   "source": []
  },
  {
   "cell_type": "code",
   "execution_count": null,
   "metadata": {},
   "outputs": [],
   "source": []
  },
  {
   "cell_type": "code",
   "execution_count": null,
   "metadata": {},
   "outputs": [],
   "source": []
  },
  {
   "cell_type": "markdown",
   "metadata": {},
   "source": [
    "There are other operations you can do with strings (split them in a particular character, finding a specific pattern, but we won't cover that)"
   ]
  },
  {
   "cell_type": "markdown",
   "metadata": {},
   "source": [
    "### Groups of \"things\"\n",
    "Sometimes we need to deal with many \"things\" at a time. Those can be a series of numbers (for example, cell counts) or word series (gene names), or even a mixture of both (although, I don't recommend it mixing it - can anyone say why?).\n",
    "<br>There are several ways of grouping things, and each one has their different characteristics, and therefore is used for different purposes. \n",
    "<br>Here are some of the most common \"data types\" in Python.\n",
    " - List - it's a series of objects that are stored in \"containers\" one after the other. Unlike R, it is defined by **square brackets, with commans between values** and not normal brackets.\n",
    " - Tuple - we will probably not use them, but here it goes: they're like lists, but they can't be changed. They're *read only*. They're enclosed by normal brackets ().\n",
    " - Dictionary - we also probably won't use them, but they are also a bit like a list. But while lists can be accessed by a key, which is the position in the list, Dictionaries have a key that you input yourself. As an example: berries={goodForJam=\"strawberry\", round=\"blueberry\", sour=\"lemon\"}. If I type berries\\[goodForJam\\], I'll get \"strawberry\".\n",
    " \n",
    "#### For now, we'll start with lists"
   ]
  },
  {
   "cell_type": "markdown",
   "metadata": {},
   "source": [
    "<br>Create a list named \"fruitList\", and insert 3 fruits of your choice in them.\n",
    "<br>Reminder: strings have to be between quotes. <i>\"Banana\"</i> is a string, while <i>Banana<i/> is a variable."
   ]
  },
  {
   "cell_type": "code",
   "execution_count": null,
   "metadata": {
    "scrolled": true
   },
   "outputs": [],
   "source": []
  },
  {
   "cell_type": "markdown",
   "metadata": {},
   "source": [
    "If you want to access a specific position in this list, we can also do that.\n",
    "<br>The only thing you need to do is type the name of your list and then the position of the element you want to acccess between square brackets.\n",
    "<br>Ex: listName\\[position\\]\n",
    "<br>\n",
    "<br>Now try to access the first element of your fuit list"
   ]
  },
  {
   "cell_type": "code",
   "execution_count": null,
   "metadata": {},
   "outputs": [],
   "source": []
  },
  {
   "cell_type": "markdown",
   "metadata": {},
   "source": [
    "<br><br><br><br>\n",
    "**Oh wait?!?! What just happened?!?**\n",
    "<br>Unlike R, and together with all other programming languages that I've heard of, **Python starts counting from zero.** <br>This is important information! Don't forget it!"
   ]
  },
  {
   "cell_type": "markdown",
   "metadata": {},
   "source": [
    "So, how would you go about accessing the second element of your list?"
   ]
  },
  {
   "cell_type": "code",
   "execution_count": null,
   "metadata": {},
   "outputs": [],
   "source": []
  },
  {
   "cell_type": "markdown",
   "metadata": {},
   "source": [
    "#### Lists of lists\n",
    "One thing I love about lists is that you can nest them.\n",
    "<br>You can make a list of lists, and logically, this is how a table works.\n",
    "<br>Here's an example: (press run on it)"
   ]
  },
  {
   "cell_type": "code",
   "execution_count": 2,
   "metadata": {},
   "outputs": [
    {
     "name": "stdout",
     "output_type": "stream",
     "text": [
      "[['apple', 'pear', 'grape'], [1.75, 2.5, 4], ['Scotland', 'Chile', 'Italy']]\n"
     ]
    }
   ],
   "source": [
    "fruitNames=[\"apple\",\"pear\",\"grape\"]\n",
    "fruitPrices=[1.75,2.50,4]\n",
    "fruitOrigin=[\"Scotland\",\"Chile\",\"Italy\"]\n",
    "fruitTable=[fruitNames,fruitPrices,fruitOrigin]\n",
    "print(fruitTable)"
   ]
  },
  {
   "cell_type": "markdown",
   "metadata": {},
   "source": [
    "In this case, we have three lists. The first one has the names of the fruits, the second has prices per kilo, and third had country of origin. So, as you can see, this is pretty much like a table.\n",
    "<br><br>To access a determined element in a 2 dimensional list you use twice the square brackets. \n",
    "The number between the first square brackets tells you what list you are locating (**fruitTable\\[0\\]** will access the first list, **fruitNames**).\n",
    "<br>The number between the second square brackets tells you which position in the list the element is.\n",
    "<br>So, the general idea is **listOfListsName\\[positionOfList\\]\\[positionOfElement\\]** \n",
    "<br><br> Just rememember that the count starts from zero!!!"
   ]
  },
  {
   "cell_type": "markdown",
   "metadata": {},
   "source": [
    "Now, what if I knew that fruitTable is made of \\[fruitNames,fruitPrices,fruitOrigin\\], and I knew that fruitNames is \\[apple, pear, grape\\]. What would you type to find out what is the country of origin of Apple?"
   ]
  },
  {
   "cell_type": "code",
   "execution_count": null,
   "metadata": {},
   "outputs": [],
   "source": []
  },
  {
   "cell_type": "markdown",
   "metadata": {},
   "source": [
    "**I got it.. but I actually want a table!**\n",
    "Well, good news for you, there's a package in Python that is made to deal with them.\n",
    "<br>But we'll deal with it later..."
   ]
  }
 ],
 "metadata": {
  "kernelspec": {
   "display_name": "Python 3",
   "language": "python",
   "name": "python3"
  },
  "language_info": {
   "codemirror_mode": {
    "name": "ipython",
    "version": 3
   },
   "file_extension": ".py",
   "mimetype": "text/x-python",
   "name": "python",
   "nbconvert_exporter": "python",
   "pygments_lexer": "ipython3",
   "version": "3.6.8"
  }
 },
 "nbformat": 4,
 "nbformat_minor": 2
}
