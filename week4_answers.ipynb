{
 "cells": [
  {
   "cell_type": "markdown",
   "metadata": {},
   "source": [
    "# Welcome to our penultimate code club session!\n",
    "Let's start with some recap\n",
    "<br>Remember lists?\n",
    "<br>Here's one interesting one: top 5 movies of all time according to Rotten Tomatoes"
   ]
  },
  {
   "cell_type": "code",
   "execution_count": 1,
   "metadata": {},
   "outputs": [],
   "source": [
    "top5=[\"Black Panter\", \"Lady Bird\", \"Citizen Kane\", \"The Wizard of Oz\", \"BlacKKKlansman\"]"
   ]
  },
  {
   "cell_type": "markdown",
   "metadata": {},
   "source": [
    "The rating of those movies according to RT is 97, 99, 100, 98 and 96 respectively\n",
    "<br>The directors of the above mentioned movies are Ryan Coogler, Greta Gerwig, Orson Welles, Victor Fleming and Spike Lee\n",
    "<br> Now create two lists with this information. "
   ]
  },
  {
   "cell_type": "code",
   "execution_count": 2,
   "metadata": {},
   "outputs": [],
   "source": [
    "rating=[97,99,100,98,96]"
   ]
  },
  {
   "cell_type": "code",
   "execution_count": 3,
   "metadata": {},
   "outputs": [],
   "source": [
    "director=[\"Ryan Coogler\", \"Greta Gerwig\", \"Orson Welles\", \"Victor Fleming\", \"Spike Lee\"]"
   ]
  },
  {
   "cell_type": "markdown",
   "metadata": {},
   "source": [
    "Now that we have 3 lists that are about the same \"thing\".\n",
    "<br>How can we \"bind\" them?\n",
    "<br>What if we did a list that contained all those 3 lists?\n",
    "<br>Try that bellow."
   ]
  },
  {
   "cell_type": "code",
   "execution_count": 5,
   "metadata": {},
   "outputs": [
    {
     "name": "stdout",
     "output_type": "stream",
     "text": [
      "[['Black Panter', 'Lady Bird', 'Citizen Kane', 'The Wizard of Oz', 'BlacKKKlansman'], [97, 99, 100, 98, 96], ['Ryan Coogler', 'Greta Gerwig', 'Orson Welles', 'Victor Fleming', 'Spike Lee']]\n"
     ]
    }
   ],
   "source": [
    "films=[top5,rating,director]\n",
    "print(films)"
   ]
  },
  {
   "cell_type": "markdown",
   "metadata": {},
   "source": [
    "#### List of lists\n",
    "Now you just crested a nested list."
   ]
  },
  {
   "cell_type": "markdown",
   "metadata": {},
   "source": [
    "So, as you can see, this is pretty much like a table.\n",
    "<br><br>But then you might ask, how does one access the elements on this list?\n",
    "<br>You use a notation like the following:\n",
    "<br>listName\\[A\\]\\[B\\]\n",
    "<br>In which **A** will mean the position in the most \"outside\" list and **B**, the position in the following level.\n",
    "<br><br>What does this mean?\n",
    "<br>Means that if you want to access, for example, the movie \"The Wizard of Oz\", you'd access the first list (**bigListName\\[0\\]**) and then the 4th element of that list (**bigListName\\[0\\]\\[3\\]**).\n",
    "<br><br>Now you go and write the command to retrieve the director of \"Wizard of Oz\"."
   ]
  },
  {
   "cell_type": "code",
   "execution_count": 6,
   "metadata": {},
   "outputs": [
    {
     "data": {
      "text/plain": [
       "'Victor Fleming'"
      ]
     },
     "execution_count": 6,
     "metadata": {},
     "output_type": "execute_result"
    }
   ],
   "source": [
    "films[2][3]"
   ]
  },
  {
   "cell_type": "markdown",
   "metadata": {},
   "source": [
    "**I got it.. but I actually want a table!**\n",
    "<br>Well, good news for you, there's a package in Python that is made to deal with them.\n",
    "<br>It's called *pandas*"
   ]
  },
  {
   "cell_type": "markdown",
   "metadata": {},
   "source": [
    "Let's load this package.\n",
    "<br><br>We will use the same **import** command that we used before, but with a tiny modification.\n",
    "<br>Since \"pandas\" is rather long and I'm lazy to type, I want to refer to it by \"pd\" after I have imported this package.\n",
    "<br>How do I do this?\n",
    "<br>By *import packageName* **as newName**\n",
    "<br><br>So, type in what you need to use pandas with a shorter namesake (tip, the most used shortened name for **pandas** is **pd**)"
   ]
  },
  {
   "cell_type": "code",
   "execution_count": 7,
   "metadata": {},
   "outputs": [],
   "source": [
    "import pandas as pd"
   ]
  },
  {
   "cell_type": "markdown",
   "metadata": {},
   "source": [
    "Then we'll read a table from a file."
   ]
  },
  {
   "cell_type": "code",
   "execution_count": 8,
   "metadata": {},
   "outputs": [],
   "source": [
    "#First let's store the complete path to file in a variable\n",
    "file=\"hills.csv\""
   ]
  },
  {
   "cell_type": "markdown",
   "metadata": {},
   "source": [
    "And now we need to find out how to use this <i>Pandas</i>:\n",
    "<br>A simple google search will lead us to the webpage of the Pandas package.\n",
    "<br>The usage is \n",
    "<br><br>pd.read_table( file_name,  sep = type_of_separator,  header = row_to_use_as_colname  \\[<i>0 for first</i>\\],  index_col = \\<col_to_use_as_rowname\\> \\[<i>0 for first</i>\\] )"
   ]
  },
  {
   "cell_type": "markdown",
   "metadata": {},
   "source": [
    "#### Let's make some comments about the above code.\n",
    " - You call it by \"pd.read_table(<filename>)\"</br>\n",
    " - The arguments inside the brackets have different meanings\n",
    " - The first thing in the code is the file name **complete with path**\n",
    " - sep = typeOfSeparator is what separates one element from the other in your file (in case of a CSV file, it's a comma, but can also be a tab, a space, or anything, really)\n",
    " - header = 'infer' will try to guess if there is a header, '0' will use the first row as the header\n",
    " - index_col = 0 will set the very first column as the row names"
   ]
  },
  {
   "cell_type": "markdown",
   "metadata": {},
   "source": [
    "Now it's your turn: read the file called hills.csv into a table using pandas, and save it to a variable"
   ]
  },
  {
   "cell_type": "code",
   "execution_count": 25,
   "metadata": {},
   "outputs": [
    {
     "data": {
      "text/html": [
       "<div>\n",
       "<style scoped>\n",
       "    .dataframe tbody tr th:only-of-type {\n",
       "        vertical-align: middle;\n",
       "    }\n",
       "\n",
       "    .dataframe tbody tr th {\n",
       "        vertical-align: top;\n",
       "    }\n",
       "\n",
       "    .dataframe thead th {\n",
       "        text-align: right;\n",
       "    }\n",
       "</style>\n",
       "<table border=\"1\" class=\"dataframe\">\n",
       "  <thead>\n",
       "    <tr style=\"text-align: right;\">\n",
       "      <th></th>\n",
       "      <th>dist</th>\n",
       "      <th>climb</th>\n",
       "      <th>time</th>\n",
       "    </tr>\n",
       "  </thead>\n",
       "  <tbody>\n",
       "    <tr>\n",
       "      <th>Greenmantle</th>\n",
       "      <td>2.5</td>\n",
       "      <td>650</td>\n",
       "      <td>16.083</td>\n",
       "    </tr>\n",
       "    <tr>\n",
       "      <th>Carnethy</th>\n",
       "      <td>6.0</td>\n",
       "      <td>2500</td>\n",
       "      <td>48.350</td>\n",
       "    </tr>\n",
       "    <tr>\n",
       "      <th>Craig Dunain</th>\n",
       "      <td>6.0</td>\n",
       "      <td>900</td>\n",
       "      <td>33.650</td>\n",
       "    </tr>\n",
       "    <tr>\n",
       "      <th>Ben Rha</th>\n",
       "      <td>7.5</td>\n",
       "      <td>800</td>\n",
       "      <td>45.600</td>\n",
       "    </tr>\n",
       "    <tr>\n",
       "      <th>Ben Lomond</th>\n",
       "      <td>8.0</td>\n",
       "      <td>3070</td>\n",
       "      <td>62.267</td>\n",
       "    </tr>\n",
       "    <tr>\n",
       "      <th>Goatfell</th>\n",
       "      <td>8.0</td>\n",
       "      <td>2866</td>\n",
       "      <td>73.217</td>\n",
       "    </tr>\n",
       "    <tr>\n",
       "      <th>Bens of Jura</th>\n",
       "      <td>16.0</td>\n",
       "      <td>7500</td>\n",
       "      <td>204.617</td>\n",
       "    </tr>\n",
       "    <tr>\n",
       "      <th>Cairnpapple</th>\n",
       "      <td>6.0</td>\n",
       "      <td>800</td>\n",
       "      <td>36.367</td>\n",
       "    </tr>\n",
       "    <tr>\n",
       "      <th>Scolty</th>\n",
       "      <td>5.0</td>\n",
       "      <td>800</td>\n",
       "      <td>29.750</td>\n",
       "    </tr>\n",
       "    <tr>\n",
       "      <th>Traprain</th>\n",
       "      <td>6.0</td>\n",
       "      <td>650</td>\n",
       "      <td>39.750</td>\n",
       "    </tr>\n",
       "    <tr>\n",
       "      <th>Lairig Ghru</th>\n",
       "      <td>28.0</td>\n",
       "      <td>2100</td>\n",
       "      <td>192.667</td>\n",
       "    </tr>\n",
       "    <tr>\n",
       "      <th>Dollar</th>\n",
       "      <td>5.0</td>\n",
       "      <td>2000</td>\n",
       "      <td>43.050</td>\n",
       "    </tr>\n",
       "    <tr>\n",
       "      <th>Lomonds</th>\n",
       "      <td>9.5</td>\n",
       "      <td>2200</td>\n",
       "      <td>65.000</td>\n",
       "    </tr>\n",
       "    <tr>\n",
       "      <th>Cairn Table</th>\n",
       "      <td>6.0</td>\n",
       "      <td>500</td>\n",
       "      <td>44.133</td>\n",
       "    </tr>\n",
       "    <tr>\n",
       "      <th>Eildon Two</th>\n",
       "      <td>4.5</td>\n",
       "      <td>1500</td>\n",
       "      <td>26.933</td>\n",
       "    </tr>\n",
       "    <tr>\n",
       "      <th>Cairngorm</th>\n",
       "      <td>10.0</td>\n",
       "      <td>3000</td>\n",
       "      <td>72.250</td>\n",
       "    </tr>\n",
       "    <tr>\n",
       "      <th>Seven Hills</th>\n",
       "      <td>14.0</td>\n",
       "      <td>2200</td>\n",
       "      <td>98.417</td>\n",
       "    </tr>\n",
       "    <tr>\n",
       "      <th>Knock Hill</th>\n",
       "      <td>3.0</td>\n",
       "      <td>350</td>\n",
       "      <td>78.650</td>\n",
       "    </tr>\n",
       "    <tr>\n",
       "      <th>Black Hill</th>\n",
       "      <td>4.5</td>\n",
       "      <td>1000</td>\n",
       "      <td>17.417</td>\n",
       "    </tr>\n",
       "    <tr>\n",
       "      <th>Creag Beag</th>\n",
       "      <td>5.5</td>\n",
       "      <td>600</td>\n",
       "      <td>32.567</td>\n",
       "    </tr>\n",
       "    <tr>\n",
       "      <th>Kildcon Hill</th>\n",
       "      <td>3.0</td>\n",
       "      <td>300</td>\n",
       "      <td>15.950</td>\n",
       "    </tr>\n",
       "    <tr>\n",
       "      <th>Meall Ant-Suidhe</th>\n",
       "      <td>3.5</td>\n",
       "      <td>1500</td>\n",
       "      <td>27.900</td>\n",
       "    </tr>\n",
       "    <tr>\n",
       "      <th>Half Ben Nevis</th>\n",
       "      <td>6.0</td>\n",
       "      <td>2200</td>\n",
       "      <td>47.633</td>\n",
       "    </tr>\n",
       "    <tr>\n",
       "      <th>Cow Hill</th>\n",
       "      <td>2.0</td>\n",
       "      <td>900</td>\n",
       "      <td>17.933</td>\n",
       "    </tr>\n",
       "    <tr>\n",
       "      <th>N Berwick Law</th>\n",
       "      <td>3.0</td>\n",
       "      <td>600</td>\n",
       "      <td>18.683</td>\n",
       "    </tr>\n",
       "    <tr>\n",
       "      <th>Creag Dubh</th>\n",
       "      <td>4.0</td>\n",
       "      <td>2000</td>\n",
       "      <td>26.217</td>\n",
       "    </tr>\n",
       "    <tr>\n",
       "      <th>Burnswark</th>\n",
       "      <td>6.0</td>\n",
       "      <td>800</td>\n",
       "      <td>34.433</td>\n",
       "    </tr>\n",
       "    <tr>\n",
       "      <th>Largo Law</th>\n",
       "      <td>5.0</td>\n",
       "      <td>950</td>\n",
       "      <td>28.567</td>\n",
       "    </tr>\n",
       "    <tr>\n",
       "      <th>Criffel</th>\n",
       "      <td>6.5</td>\n",
       "      <td>1750</td>\n",
       "      <td>50.500</td>\n",
       "    </tr>\n",
       "    <tr>\n",
       "      <th>Acmony</th>\n",
       "      <td>5.0</td>\n",
       "      <td>500</td>\n",
       "      <td>20.950</td>\n",
       "    </tr>\n",
       "    <tr>\n",
       "      <th>Ben Nevis</th>\n",
       "      <td>10.0</td>\n",
       "      <td>4400</td>\n",
       "      <td>85.583</td>\n",
       "    </tr>\n",
       "    <tr>\n",
       "      <th>Knockfarrel</th>\n",
       "      <td>6.0</td>\n",
       "      <td>600</td>\n",
       "      <td>32.383</td>\n",
       "    </tr>\n",
       "    <tr>\n",
       "      <th>Two Breweries</th>\n",
       "      <td>18.0</td>\n",
       "      <td>5200</td>\n",
       "      <td>170.250</td>\n",
       "    </tr>\n",
       "    <tr>\n",
       "      <th>Cockleroi</th>\n",
       "      <td>4.5</td>\n",
       "      <td>850</td>\n",
       "      <td>28.100</td>\n",
       "    </tr>\n",
       "    <tr>\n",
       "      <th>Moffat Chase</th>\n",
       "      <td>20.0</td>\n",
       "      <td>5000</td>\n",
       "      <td>159.833</td>\n",
       "    </tr>\n",
       "  </tbody>\n",
       "</table>\n",
       "</div>"
      ],
      "text/plain": [
       "                  dist  climb     time\n",
       "Greenmantle        2.5    650   16.083\n",
       "Carnethy           6.0   2500   48.350\n",
       "Craig Dunain       6.0    900   33.650\n",
       "Ben Rha            7.5    800   45.600\n",
       "Ben Lomond         8.0   3070   62.267\n",
       "Goatfell           8.0   2866   73.217\n",
       "Bens of Jura      16.0   7500  204.617\n",
       "Cairnpapple        6.0    800   36.367\n",
       "Scolty             5.0    800   29.750\n",
       "Traprain           6.0    650   39.750\n",
       "Lairig Ghru       28.0   2100  192.667\n",
       "Dollar             5.0   2000   43.050\n",
       "Lomonds            9.5   2200   65.000\n",
       "Cairn Table        6.0    500   44.133\n",
       "Eildon Two         4.5   1500   26.933\n",
       "Cairngorm         10.0   3000   72.250\n",
       "Seven Hills       14.0   2200   98.417\n",
       "Knock Hill         3.0    350   78.650\n",
       "Black Hill         4.5   1000   17.417\n",
       "Creag Beag         5.5    600   32.567\n",
       "Kildcon Hill       3.0    300   15.950\n",
       "Meall Ant-Suidhe   3.5   1500   27.900\n",
       "Half Ben Nevis     6.0   2200   47.633\n",
       "Cow Hill           2.0    900   17.933\n",
       "N Berwick Law      3.0    600   18.683\n",
       "Creag Dubh         4.0   2000   26.217\n",
       "Burnswark          6.0    800   34.433\n",
       "Largo Law          5.0    950   28.567\n",
       "Criffel            6.5   1750   50.500\n",
       "Acmony             5.0    500   20.950\n",
       "Ben Nevis         10.0   4400   85.583\n",
       "Knockfarrel        6.0    600   32.383\n",
       "Two Breweries     18.0   5200  170.250\n",
       "Cockleroi          4.5    850   28.100\n",
       "Moffat Chase      20.0   5000  159.833"
      ]
     },
     "execution_count": 25,
     "metadata": {},
     "output_type": "execute_result"
    }
   ],
   "source": [
    "df = pd.read_table(file, sep=\",\", header='infer', index_col=0)\n",
    "df"
   ]
  },
  {
   "cell_type": "markdown",
   "metadata": {},
   "source": [
    "Now that you have imported this table (that from now on we will call data frame), you may have noticed that unlike as lists of lists, this data frame is actually organised **as a table**.\n",
    "### But how can you access an element?\n",
    "There are 3 main ways:\n",
    "#### By columns and row names (column name first)\n",
    "The command is *dataFrameName\\[columnName\\]\\[rowName\\]*"
   ]
  },
  {
   "cell_type": "code",
   "execution_count": 37,
   "metadata": {},
   "outputs": [
    {
     "data": {
      "text/plain": [
       "3070"
      ]
     },
     "execution_count": 37,
     "metadata": {},
     "output_type": "execute_result"
    }
   ],
   "source": [
    "df[\"climb\"][\"Ben Lomond\"]"
   ]
  },
  {
   "cell_type": "markdown",
   "metadata": {},
   "source": [
    "#### By row and column name (row name first)\n",
    "The command is *dataFrameName.loc\\[rowName\\]\\[columnName\\]*"
   ]
  },
  {
   "cell_type": "code",
   "execution_count": 38,
   "metadata": {},
   "outputs": [
    {
     "data": {
      "text/plain": [
       "3070"
      ]
     },
     "execution_count": 38,
     "metadata": {},
     "output_type": "execute_result"
    }
   ],
   "source": [
    "df.loc[\"Ben Lomond\", \"climb\"]"
   ]
  },
  {
   "cell_type": "markdown",
   "metadata": {},
   "source": [
    "#### By localisation (row index first)\n",
    "The command is *dataFrameName.iloc\\[rowIndex\\]\\[ColumnIndex\\]*"
   ]
  },
  {
   "cell_type": "code",
   "execution_count": 39,
   "metadata": {},
   "outputs": [
    {
     "data": {
      "text/plain": [
       "3070"
      ]
     },
     "execution_count": 39,
     "metadata": {},
     "output_type": "execute_result"
    }
   ],
   "source": [
    "df.iloc[4,1]"
   ]
  },
  {
   "cell_type": "markdown",
   "metadata": {},
   "source": [
    "### Functions in data frames\n",
    "You can use functions to make your life easier.\n",
    "<br>One good example is *Data.Frame.mean*"
   ]
  },
  {
   "cell_type": "markdown",
   "metadata": {},
   "source": [
    "If you type:\n",
    "<br><br><i>pd.DataFrame.mean(**name of your table**)</i>\n",
    "<br><br>You will get the mean of all columns.\n",
    "<br>But you can also store this value in a variable.\n",
    "<br>Calculate the means and store it in a variable called \"m\""
   ]
  },
  {
   "cell_type": "code",
   "execution_count": 40,
   "metadata": {},
   "outputs": [
    {
     "data": {
      "text/plain": [
       "dist        7.528571\n",
       "climb    1815.314286\n",
       "time       57.875714\n",
       "dtype: float64"
      ]
     },
     "execution_count": 40,
     "metadata": {},
     "output_type": "execute_result"
    }
   ],
   "source": [
    "m = pd.DataFrame.mean(df)\n",
    "m"
   ]
  },
  {
   "cell_type": "markdown",
   "metadata": {},
   "source": [
    "Now that you know how to access a specific column, how would you calculate the mean of only time?"
   ]
  },
  {
   "cell_type": "code",
   "execution_count": 41,
   "metadata": {},
   "outputs": [
    {
     "data": {
      "text/plain": [
       "57.87571428571429"
      ]
     },
     "execution_count": 41,
     "metadata": {},
     "output_type": "execute_result"
    }
   ],
   "source": [
    "m_time = pd.DataFrame.mean(df['time'])\n",
    "m_time"
   ]
  },
  {
   "cell_type": "markdown",
   "metadata": {},
   "source": [
    "But you can also take that table with means and access the mean of only time. How would you do that?"
   ]
  },
  {
   "cell_type": "code",
   "execution_count": 45,
   "metadata": {},
   "outputs": [
    {
     "data": {
      "text/plain": [
       "57.875714285714295"
      ]
     },
     "execution_count": 45,
     "metadata": {},
     "output_type": "execute_result"
    }
   ],
   "source": [
    "m['time']"
   ]
  },
  {
   "cell_type": "markdown",
   "metadata": {},
   "source": [
    "There are other interesting functions that you can use with your table.\n",
    "<br>*DataFrame.std* calculates the Standard deviation for you\n",
    "<br><br>Use this command, calculate the standard deviation and store in a variable called \"sd\""
   ]
  },
  {
   "cell_type": "code",
   "execution_count": 21,
   "metadata": {},
   "outputs": [
    {
     "data": {
      "text/plain": [
       "dist        5.523936\n",
       "climb    1619.150536\n",
       "time       50.040716\n",
       "dtype: float64"
      ]
     },
     "execution_count": 21,
     "metadata": {},
     "output_type": "execute_result"
    }
   ],
   "source": [
    "sd=pd.DataFrame.std(df)\n",
    "sd"
   ]
  },
  {
   "cell_type": "markdown",
   "metadata": {},
   "source": [
    "And you can access it them using that same logic:\n",
    "<br>The first element (the stdev of distance) will be stored in sd\\['distance'\\] and so on.\n",
    "<br><br>Now that we know we can work with lists and tables, why not trying to graph it?\n",
    "# Graphs in Python\n",
    "Yes, you can make graphs in Python and they look pretty cool.\n",
    "<br>For this you will need yet other packages.\n",
    "<br><br>Since you already know how to import packages, I'll give you just a hint..\n",
    "<br>The first package you need is called <i>matplotlib</i> (but we use it as *plt*)\n",
    "<br>The second is part of Matplotlib, but you need to import ir separetely: <i>matplotlib.pyplot</i> (and we use it as *mpl*)\n",
    "<br>The third is *numpy* (and we use it as *np*)"
   ]
  },
  {
   "cell_type": "code",
   "execution_count": 61,
   "metadata": {},
   "outputs": [],
   "source": [
    "import matplotlib.pyplot as plt\n",
    "import matplotlib as mpl\n",
    "import numpy as np"
   ]
  },
  {
   "cell_type": "markdown",
   "metadata": {},
   "source": [
    "We can call a plot in very simple way:\n",
    "<br><b>tableName.plot()</b>"
   ]
  },
  {
   "cell_type": "code",
   "execution_count": 49,
   "metadata": {},
   "outputs": [
    {
     "data": {
      "text/plain": [
       "<matplotlib.axes._subplots.AxesSubplot at 0x7fafc1024a20>"
      ]
     },
     "execution_count": 49,
     "metadata": {},
     "output_type": "execute_result"
    },
    {
     "data": {
      "image/png": "[encoded data removed]",
      "text/plain": [
       "<Figure size 432x288 with 1 Axes>"
      ]
     },
     "metadata": {
      "needs_background": "light"
     },
     "output_type": "display_data"
    }
   ],
   "source": [
    "df.plot()"
   ]
  },
  {
   "cell_type": "markdown",
   "metadata": {},
   "source": [
    "This simple command will plot all variables (dist, climb and time) and will assign different colours to them.\n",
    "<br>However, you perhaps want to have a prettier graph or maybe you don't want to plot everything together.\n",
    "<br>Let's say you are very interest in the distance. Let's plot that.\n",
    "<br><br>This works by specifying what column you want plotted."
   ]
  },
  {
   "cell_type": "code",
   "execution_count": 51,
   "metadata": {},
   "outputs": [
    {
     "data": {
      "text/plain": [
       "<matplotlib.axes._subplots.AxesSubplot at 0x7faf80030048>"
      ]
     },
     "execution_count": 51,
     "metadata": {},
     "output_type": "execute_result"
    },
    {
     "data": {
      "image/png": "[encoded data removed]",
      "text/plain": [
       "<Figure size 432x288 with 1 Axes>"
      ]
     },
     "metadata": {
      "needs_background": "light"
     },
     "output_type": "display_data"
    }
   ],
   "source": [
    "df['dist'].plot()"
   ]
  },
  {
   "cell_type": "markdown",
   "metadata": {},
   "source": [
    "There we have it.\n",
    "<br>But this is far from looking pretty.\n",
    "<br>Let's make some minor modifications. First, let's plot this as a bar plot.\n",
    "<br><br>This achieved by adding some specifications inside the brackets after <i>plot</i>\n",
    "<br><br>Try <i>table['column'].plot(kind='bar')</i>"
   ]
  },
  {
   "cell_type": "code",
   "execution_count": 53,
   "metadata": {},
   "outputs": [
    {
     "data": {
      "text/plain": [
       "<matplotlib.axes._subplots.AxesSubplot at 0x7fafb0110908>"
      ]
     },
     "execution_count": 53,
     "metadata": {},
     "output_type": "execute_result"
    },
    {
     "data": {
      "image/png": "[encoded data removed]",
      "text/plain": [
       "<Figure size 432x288 with 1 Axes>"
      ]
     },
     "metadata": {
      "needs_background": "light"
     },
     "output_type": "display_data"
    }
   ],
   "source": [
    "df['dist'].plot(kind='bar')"
   ]
  },
  {
   "cell_type": "markdown",
   "metadata": {},
   "source": [
    "We have the bars now, and this automatically gave us the labels on the x axis. \n",
    "<br>But.. are we happy with these colours?\n",
    "<br>Well, I'm not and I'd like to have all bars with the same colour, and I'd like them to be blue.\n",
    "<br><br>This is quite easy to achieve. After specifying the kind of plot, specify the colour. \n",
    "<br>Unfortunately, you'll have to use the US spelling and type <i>color='whatever you want'</i>"
   ]
  },
  {
   "cell_type": "code",
   "execution_count": 56,
   "metadata": {},
   "outputs": [
    {
     "data": {
      "text/plain": [
       "<matplotlib.axes._subplots.AxesSubplot at 0x7fafc16a2cf8>"
      ]
     },
     "execution_count": 56,
     "metadata": {},
     "output_type": "execute_result"
    },
    {
     "data": {
      "image/png": "[encoded data removed]",
      "text/plain": [
       "<Figure size 432x288 with 1 Axes>"
      ]
     },
     "metadata": {
      "needs_background": "light"
     },
     "output_type": "display_data"
    }
   ],
   "source": [
    "df['dist'].plot(kind='bar',color='blue')"
   ]
  },
  {
   "cell_type": "markdown",
   "metadata": {},
   "source": [
    "Now that you know how everything works, let's find out how would we do to plot the distance and the time together, grouped by the hill name.\n",
    "<br>If you thought \"google\", you're very correct. Type in \"matplotlib grouped bar chart\""
   ]
  },
  {
   "cell_type": "markdown",
   "metadata": {},
   "source": [
    "Try to understand what each part of the code is doing and reproduce what you understood bellow.\n",
    "<br>"
   ]
  },
  {
   "cell_type": "code",
   "execution_count": 93,
   "metadata": {
    "scrolled": true
   },
   "outputs": [
    {
     "data": {
      "image/png": "[encoded data removed]",
      "text/plain": [
       "<Figure size 1440x864 with 1 Axes>"
      ]
     },
     "metadata": {
      "needs_background": "light"
     },
     "output_type": "display_data"
    }
   ],
   "source": [
    "pos = np.arange(df.shape[0]) #position of bars\n",
    "width = 0.4\n",
    "fig, ax = plt.subplots(figsize=(20, 12))\n",
    "distance = ax.bar(pos + width/2, df['dist'], width, label='Distance')\n",
    "ax.set_ylabel('')\n",
    "ax.set_title('Munros distance and climbing time', size=24)\n",
    "ax.legend()\n",
    "plt.xticks(pos, df.index, rotation='vertical', size=12)\n",
    "plt.show()"
   ]
  },
  {
   "cell_type": "markdown",
   "metadata": {},
   "source": [
    "### How was that?\n",
    "What was hard and what was easy?\n",
    "<br>If we got to the end of this exercise, this means my whole goal for code club is completed.\n",
    "<br>What things do you want to learn more about?"
   ]
  }
 ],
 "metadata": {
  "kernelspec": {
   "display_name": "Python 3",
   "language": "python",
   "name": "python3"
  },
  "language_info": {
   "codemirror_mode": {
    "name": "ipython",
    "version": 3
   },
   "file_extension": ".py",
   "mimetype": "text/x-python",
   "name": "python",
   "nbconvert_exporter": "python",
   "pygments_lexer": "ipython3",
   "version": "3.6.7"
  }
 },
 "nbformat": 4,
 "nbformat_minor": 2
}
