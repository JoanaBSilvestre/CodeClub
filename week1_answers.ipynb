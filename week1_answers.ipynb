{
 "cells": [
  {
   "cell_type": "markdown",
   "metadata": {},
   "source": [
    "# Welcome to week 2 of the code club!\n",
    "First of all, let's recap some of what we have seen in the last session\n",
    "<br>Assign a number to a variable and find the square root of it."
   ]
  },
  {
   "cell_type": "code",
   "execution_count": 1,
   "metadata": {},
   "outputs": [],
   "source": [
    "x=25"
   ]
  },
  {
   "cell_type": "code",
   "execution_count": 2,
   "metadata": {},
   "outputs": [],
   "source": [
    "import math"
   ]
  },
  {
   "cell_type": "code",
   "execution_count": 3,
   "metadata": {},
   "outputs": [
    {
     "data": {
      "text/plain": [
       "5.0"
      ]
     },
     "execution_count": 3,
     "metadata": {},
     "output_type": "execute_result"
    }
   ],
   "source": [
    "math.sqrt(x)"
   ]
  },
  {
   "cell_type": "markdown",
   "metadata": {},
   "source": [
    "Now write two sentences, one of them using quotes in the middle of it, concatenate them and print it."
   ]
  },
  {
   "cell_type": "code",
   "execution_count": 7,
   "metadata": {},
   "outputs": [],
   "source": [
    "s1='ALL\\'s the most most common type of Leukaemia in children'"
   ]
  },
  {
   "cell_type": "code",
   "execution_count": 8,
   "metadata": {},
   "outputs": [],
   "source": [
    "s2=', and 85% of the cases occur in children younger than 15 years old'"
   ]
  },
  {
   "cell_type": "code",
   "execution_count": 9,
   "metadata": {},
   "outputs": [
    {
     "name": "stdout",
     "output_type": "stream",
     "text": [
      "ALL's the most most common type of Leukaemia in children, and 85% of the cases occur in children younger than 15 years old\n"
     ]
    }
   ],
   "source": [
    "print(s1+s2)"
   ]
  },
  {
   "cell_type": "markdown",
   "metadata": {},
   "source": [
    "How was that? Did we have any difficulties?\n",
    "<br>If not, let's move on to new things"
   ]
  },
  {
   "cell_type": "markdown",
   "metadata": {},
   "source": [
    "### Groups of \"things\"\n",
    "Sometimes we need to deal with many \"things\" at a time. Those can be a series of numbers (for example, cell counts) or word series (gene names), or even a mixture of both (although, I don't recommend it mixing it - can anyone say why?).\n",
    "<br>There are several ways of grouping things, and each one has their different characteristics, and therefore is used for different purposes. \n",
    "<br>Here are some of the most common \"data types\" in Python.\n",
    " - List - it's a series of objects that are stored in \"containers\" one after the other. Unlike R, it is defined by **square brackets, with commas between values** and not normal brackets.\n",
    " - Tuple - we will probably not use them, but here it goes: they're like lists, but they can't be changed. They're *read only*. They're enclosed by normal brackets ().\n",
    " - Dictionary - we also probably won't use them, but they are also a bit like a list. But while lists can be accessed by a key, which is the position in the list, Dictionaries have a key that you input yourself. As an example: berries={goodForJam=\"strawberry\", round=\"blueberry\", sour=\"lemon\"}. If I type berries\\[goodForJam\\], I'll get \"strawberry\".\n",
    " \n",
    "#### For now, we'll start with lists"
   ]
  },
  {
   "cell_type": "markdown",
   "metadata": {},
   "source": [
    "<br>Create a list named \"fruitList\", and insert 3 fruits of your choice in them.\n",
    "<br>Reminder: strings have to be between quotes. <i>\"Banana\"</i> is a string, while <i>Banana<i/> is a variable."
   ]
  },
  {
   "cell_type": "code",
   "execution_count": 10,
   "metadata": {},
   "outputs": [],
   "source": [
    "fruitList=[\"banana\",\"pear\",\"blueberry\"]"
   ]
  },
  {
   "cell_type": "markdown",
   "metadata": {},
   "source": [
    "If you want to access a specific position in this list, we can also do that.\n",
    "<br>The only thing you need to do is type the name of your list and then the position of the element you want to acccess between square brackets.\n",
    "<br>Ex: listName\\[position\\]\n",
    "<br>\n",
    "<br>Now try to access the first element of your fuit list"
   ]
  },
  {
   "cell_type": "code",
   "execution_count": 11,
   "metadata": {},
   "outputs": [
    {
     "data": {
      "text/plain": [
       "'banana'"
      ]
     },
     "execution_count": 11,
     "metadata": {},
     "output_type": "execute_result"
    }
   ],
   "source": [
    "fruitList[0]"
   ]
  },
  {
   "cell_type": "markdown",
   "metadata": {},
   "source": [
    "<br><br><br><br>\n",
    "**Oh wait?!?! What just happened?!?**\n",
    "<br>Unlike R, and together with all other programming languages that I've heard of, **Python starts counting from zero.** \n",
    "<br>So, this means that in Python, the first **index** of the list is **zero**.\n",
    "<br>This is important information! Don't forget it!\n",
    "<br><br>So, how would you go about accessing the second element of your list?"
   ]
  },
  {
   "cell_type": "code",
   "execution_count": 12,
   "metadata": {},
   "outputs": [
    {
     "data": {
      "text/plain": [
       "'pear'"
      ]
     },
     "execution_count": 12,
     "metadata": {},
     "output_type": "execute_result"
    }
   ],
   "source": [
    "fruitList[1]"
   ]
  },
  {
   "cell_type": "markdown",
   "metadata": {},
   "source": [
    "Now, how do you think you can access the last element of the list?"
   ]
  },
  {
   "cell_type": "code",
   "execution_count": 14,
   "metadata": {},
   "outputs": [
    {
     "data": {
      "text/plain": [
       "'blueberry'"
      ]
     },
     "execution_count": 14,
     "metadata": {},
     "output_type": "execute_result"
    }
   ],
   "source": [
    "fruitList[2]"
   ]
  },
  {
   "cell_type": "markdown",
   "metadata": {},
   "source": [
    "Do you think there is a notation for \"last element\"? What would this be?"
   ]
  },
  {
   "cell_type": "code",
   "execution_count": 15,
   "metadata": {},
   "outputs": [
    {
     "data": {
      "text/plain": [
       "'blueberry'"
      ]
     },
     "execution_count": 15,
     "metadata": {},
     "output_type": "execute_result"
    }
   ],
   "source": [
    "fruitList[-1]"
   ]
  },
  {
   "cell_type": "markdown",
   "metadata": {},
   "source": [
    "Now, what if you want to know the index of a particular element of your list?"
   ]
  },
  {
   "cell_type": "code",
   "execution_count": 16,
   "metadata": {},
   "outputs": [
    {
     "data": {
      "text/plain": [
       "0"
      ]
     },
     "execution_count": 16,
     "metadata": {},
     "output_type": "execute_result"
    }
   ],
   "source": [
    "fruitList.index(\"banana\")"
   ]
  },
  {
   "cell_type": "markdown",
   "metadata": {},
   "source": [
    "What about a command to retrieve the length of a list? Think that python's commands are  similar to words humans use."
   ]
  },
  {
   "cell_type": "code",
   "execution_count": 17,
   "metadata": {},
   "outputs": [
    {
     "data": {
      "text/plain": [
       "3"
      ]
     },
     "execution_count": 17,
     "metadata": {},
     "output_type": "execute_result"
    }
   ],
   "source": [
    "len(fruitList)"
   ]
  },
  {
   "cell_type": "markdown",
   "metadata": {},
   "source": [
    "Now, does this command work only in lists or does it work with strings too? Let's test\n",
    "<br>Create a string, and print the length of it"
   ]
  },
  {
   "cell_type": "code",
   "execution_count": 18,
   "metadata": {},
   "outputs": [
    {
     "data": {
      "text/plain": [
       "5"
      ]
     },
     "execution_count": 18,
     "metadata": {},
     "output_type": "execute_result"
    }
   ],
   "source": [
    "len(\"Joana\")"
   ]
  },
  {
   "cell_type": "markdown",
   "metadata": {},
   "source": [
    "What can we conclude about the data structure of strings and lists?"
   ]
  },
  {
   "cell_type": "markdown",
   "metadata": {},
   "source": [
    "They are pretty similar"
   ]
  },
  {
   "cell_type": "markdown",
   "metadata": {},
   "source": [
    "Ok, you have your list of fruits, but you forgot to put another one there.. Now you want to add \"starfruit\" to your list. How do you do it?"
   ]
  },
  {
   "cell_type": "code",
   "execution_count": 19,
   "metadata": {},
   "outputs": [],
   "source": [
    "fruitList.insert(0,\"starfruit\")"
   ]
  },
  {
   "cell_type": "code",
   "execution_count": 20,
   "metadata": {},
   "outputs": [
    {
     "name": "stdout",
     "output_type": "stream",
     "text": [
      "['starfruit', 'banana', 'pear', 'blueberry']\n"
     ]
    }
   ],
   "source": [
    "print(fruitList)"
   ]
  },
  {
   "cell_type": "code",
   "execution_count": 21,
   "metadata": {},
   "outputs": [],
   "source": [
    "fruitList.append(\"orange\")"
   ]
  },
  {
   "cell_type": "code",
   "execution_count": 22,
   "metadata": {},
   "outputs": [
    {
     "name": "stdout",
     "output_type": "stream",
     "text": [
      "['starfruit', 'banana', 'pear', 'blueberry', 'orange']\n"
     ]
    }
   ],
   "source": [
    "print(fruitList)"
   ]
  },
  {
   "cell_type": "markdown",
   "metadata": {},
   "source": [
    "Now you have your list with all the fruits, and you want to know if you put \"strawberry\" there. How can we do it?"
   ]
  },
  {
   "cell_type": "code",
   "execution_count": 23,
   "metadata": {},
   "outputs": [
    {
     "data": {
      "text/plain": [
       "False"
      ]
     },
     "execution_count": 23,
     "metadata": {},
     "output_type": "execute_result"
    }
   ],
   "source": [
    "\"strawberry\" in fruitList"
   ]
  },
  {
   "cell_type": "markdown",
   "metadata": {},
   "source": [
    "You've done really well in learning how to manipulate lists investigate what is in them.\n",
    "<br>Now, let's go a step ahead and make things a tad more complex.\n",
    "<br>Let's talk about..\n",
    "#### Lists of lists\n",
    "One thing I love about lists is that you can nest them.\n",
    "<br>You can make a list of lists, and logically, this is how a table works.\n",
    "<br>Here's an example: (press run on it)"
   ]
  },
  {
   "cell_type": "code",
   "execution_count": 26,
   "metadata": {},
   "outputs": [
    {
     "name": "stdout",
     "output_type": "stream",
     "text": [
      "[['apple', 'pear', 'grape'], [1.75, 2.5, 4], ['Scotland', 'Chile', 'Italy']]\n"
     ]
    }
   ],
   "source": [
    "fruitNames=[\"apple\",\"pear\",\"grape\"]\n",
    "fruitPrices=[1.75,2.50,4]\n",
    "fruitOrigin=[\"Scotland\",\"Chile\",\"Italy\"]\n",
    "fruitTable=[fruitNames,fruitPrices,fruitOrigin]\n",
    "print(fruitTable)"
   ]
  },
  {
   "cell_type": "markdown",
   "metadata": {},
   "source": [
    "In this case, we have three lists. The first one has the names of the fruits, the second has prices per kilo, and third had country of origin. So, as you can see, this is pretty much like a table.\n",
    "<br><br>To access a determined element in a 2 dimensional list you use twice the square brackets. \n",
    "The number between the first square brackets tells you what list you are locating (**fruitTable\\[0\\]** will access the first list, **fruitNames**).\n",
    "<br>The number between the second square brackets tells you which position in the list the element is.\n",
    "<br>So, the general idea is **listOfListsName\\[positionOfList\\]\\[positionOfElement\\]** \n",
    "<br><br> Just rememember that the count starts from zero!!!\n",
    "<br><br>Now, what if I knew that fruitTable is made of \\[fruitNames,fruitPrices,fruitOrigin\\], and I knew that fruitNames is \\[apple, pear, grape\\]. What would you type to find out what is the country of origin of Apple?"
   ]
  },
  {
   "cell_type": "code",
   "execution_count": 27,
   "metadata": {},
   "outputs": [
    {
     "data": {
      "text/plain": [
       "'Scotland'"
      ]
     },
     "execution_count": 27,
     "metadata": {},
     "output_type": "execute_result"
    }
   ],
   "source": [
    "fruitTable[2][0]"
   ]
  },
  {
   "cell_type": "markdown",
   "metadata": {},
   "source": [
    "OR, if you want to get real fancy..."
   ]
  },
  {
   "cell_type": "code",
   "execution_count": 36,
   "metadata": {},
   "outputs": [],
   "source": [
    "index1=fruitTable.index(fruitPrices)"
   ]
  },
  {
   "cell_type": "code",
   "execution_count": 37,
   "metadata": {},
   "outputs": [],
   "source": [
    "index_extra=fruitTable.index(fruitNames) "
   ]
  },
  {
   "cell_type": "code",
   "execution_count": 38,
   "metadata": {},
   "outputs": [],
   "source": [
    "index2=fruitTable[index_extra].index(\"apple\")"
   ]
  },
  {
   "cell_type": "code",
   "execution_count": 39,
   "metadata": {},
   "outputs": [
    {
     "data": {
      "text/plain": [
       "1.75"
      ]
     },
     "execution_count": 39,
     "metadata": {},
     "output_type": "execute_result"
    }
   ],
   "source": [
    "fruitTable[index1][index2]"
   ]
  },
  {
   "cell_type": "markdown",
   "metadata": {},
   "source": [
    "**I got it.. but I actually want a table!**\n",
    "Well, good news for you, there's a package in Python that is made to deal with them.\n",
    "<br>But we'll deal with it later..."
   ]
  }
 ],
 "metadata": {
  "kernelspec": {
   "display_name": "Python 3",
   "language": "python",
   "name": "python3"
  },
  "language_info": {
   "codemirror_mode": {
    "name": "ipython",
    "version": 3
   },
   "file_extension": ".py",
   "mimetype": "text/x-python",
   "name": "python",
   "nbconvert_exporter": "python",
   "pygments_lexer": "ipython3",
   "version": "3.6.8"
  }
 },
 "nbformat": 4,
 "nbformat_minor": 2
}
