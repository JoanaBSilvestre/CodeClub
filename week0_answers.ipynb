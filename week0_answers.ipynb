{
 "cells": [
  {
   "cell_type": "markdown",
   "metadata": {},
   "source": [
    "# Starting with Python\n",
    "</br>Python is a coding laguage just like any other. \n",
    "</br>Of course each one has their strengths and weaknesses, but this is my favourite language to program.\n",
    "</br>Why? No specific reason. I just find it easier to understand."
   ]
  },
  {
   "cell_type": "markdown",
   "metadata": {},
   "source": [
    "# Let's start coding!\n",
    "\n",
    "And this begins by learning how to write a comment"
   ]
  },
  {
   "cell_type": "code",
   "execution_count": 36,
   "metadata": {},
   "outputs": [],
   "source": [
    "#In python, if you start any line with a hash, it is a comment, and won't execute\n",
    "#It's useful if you want to say to yourself what your code is doing, and it helps anyone who is reading your code"
   ]
  },
  {
   "cell_type": "markdown",
   "metadata": {},
   "source": [
    "And you can write your first line of code by typing some simple commands.\n",
    "<br>Start with *print* followed by brackets. Inside them, write \"Hello World\" and don't forget the quotes.\n",
    "<br>It will look like *print(\"Hello World\")*\n",
    "<br>After you type your command, press the run button."
   ]
  },
  {
   "cell_type": "code",
   "execution_count": 1,
   "metadata": {},
   "outputs": [
    {
     "name": "stdout",
     "output_type": "stream",
     "text": [
      "Hello World\n"
     ]
    }
   ],
   "source": [
    "print(\"Hello World\")"
   ]
  },
  {
   "cell_type": "markdown",
   "metadata": {},
   "source": [
    "Well Done! You just wrote your first line of code in Python!\n",
    "<br>What this code is doing is very simple: it's is giving instructions to the computer.\n",
    "<br>It says print on the screen, and here is the text I'd like you to print.\n",
    "#### But what if we want to save information?\n",
    "For that we *assign* a value to a variable.\n",
    "<br>And **how** do we do it?\n",
    "<br>By typing an **=** between them.\n",
    "<br>The asssignment direction is always from right to left.\n",
    "<br>Words are between quotes and numbers don't need them.\n",
    "<br>This means that if you type *x=\"Hello\"*, the value *\"Hello\"* will be assigned to the variable *x*."
   ]
  },
  {
   "cell_type": "markdown",
   "metadata": {},
   "source": [
    "#### Let's try it!\n",
    "Assign your name to the variable n"
   ]
  },
  {
   "cell_type": "code",
   "execution_count": 2,
   "metadata": {},
   "outputs": [],
   "source": [
    "n=\"Joana\""
   ]
  },
  {
   "cell_type": "markdown",
   "metadata": {},
   "source": [
    "And now print it with the *print(variable)* command"
   ]
  },
  {
   "cell_type": "code",
   "execution_count": 3,
   "metadata": {},
   "outputs": [
    {
     "name": "stdout",
     "output_type": "stream",
     "text": [
      "Joana\n"
     ]
    }
   ],
   "source": [
    "print(n)"
   ]
  },
  {
   "cell_type": "markdown",
   "metadata": {},
   "source": [
    "#### And now let's assign a number to a variable\n",
    "Let's say we want the variable *num* to be *5*"
   ]
  },
  {
   "cell_type": "code",
   "execution_count": 4,
   "metadata": {},
   "outputs": [],
   "source": [
    "num=5"
   ]
  },
  {
   "cell_type": "markdown",
   "metadata": {},
   "source": [
    "And now print this variable"
   ]
  },
  {
   "cell_type": "code",
   "execution_count": 5,
   "metadata": {},
   "outputs": [
    {
     "name": "stdout",
     "output_type": "stream",
     "text": [
      "5\n"
     ]
    }
   ],
   "source": [
    "print(num)"
   ]
  },
  {
   "cell_type": "markdown",
   "metadata": {},
   "source": [
    "A we've seen it, there can be words and numbers in Python. But maybe we should formalise these concepts."
   ]
  },
  {
   "cell_type": "markdown",
   "metadata": {},
   "source": [
    "# Data types\n",
    "There's a part of any programing language that is a bit iffy, and that is learning the correct names of \"things\".\n",
    "<br>So let's get some basics here \n",
    " \n",
    " - Numbers \n",
    "     - can be integers (that from now on we will call *int* - like 1 or 243)  \n",
    "     - decimals (that we from now on will call *float* - like 4.3 or 78.2109765)\n",
    "     - or complex numbers (we won't cover that)\n",
    " - String - a series of characters (like \"Hello\" or \"I love learning some Pyhton programming. It is so fun!\"). You can even have numbers written as strings, which means you can't do math with them, because they will be treated as words.\n",
    "    - You make anything a string by putting it between \"\" or ''\n",
    "    - You make the computer ignore the ' as a mark for the start/end of a string by using **\\\\** before it.\n",
    "    - Example : 'Today\\\\'s menu'\n",
    "    - This backwards slash: **\\\\**  is called escape, and can be used to tell the computer to interpret something as a command or as a character\n",
    "\n",
    "<br> Don't worry if all of this seems too much. You can always go back to it and consult it."
   ]
  },
  {
   "cell_type": "markdown",
   "metadata": {},
   "source": [
    "### Let's practice a bit now!\n",
    "Write one short sentence and assign it to a variable."
   ]
  },
  {
   "cell_type": "code",
   "execution_count": 7,
   "metadata": {},
   "outputs": [],
   "source": [
    "shortSentence=\"Python is fun\""
   ]
  },
  {
   "cell_type": "markdown",
   "metadata": {},
   "source": [
    "Now print this variable"
   ]
  },
  {
   "cell_type": "code",
   "execution_count": 8,
   "metadata": {},
   "outputs": [
    {
     "name": "stdout",
     "output_type": "stream",
     "text": [
      "Python is fun\n"
     ]
    }
   ],
   "source": [
    "print(shortSentence)"
   ]
  },
  {
   "cell_type": "markdown",
   "metadata": {},
   "source": [
    "And now write another short sentence, this time, one that needs an apostrophe, so you can practice it.\n",
    "<br>Assign that sentence to a variable and then print it"
   ]
  },
  {
   "cell_type": "code",
   "execution_count": 9,
   "metadata": {},
   "outputs": [],
   "source": [
    "sentenceWithQuote=\"Python is \\\"fun\\\"\""
   ]
  },
  {
   "cell_type": "code",
   "execution_count": 10,
   "metadata": {},
   "outputs": [
    {
     "name": "stdout",
     "output_type": "stream",
     "text": [
      "Python is \"fun\"\n"
     ]
    }
   ],
   "source": [
    "print(sentenceWithQuote)"
   ]
  },
  {
   "cell_type": "markdown",
   "metadata": {},
   "source": [
    "# Naming conventions\n",
    "As you might name noticed, you can name your variables pretty much anything.\n",
    "<br>You might be tempted to go crazy and name them <i>aWs0mEXxX</i> or <i>COOLvariable21</i>, but why not keep it logical and tidy?\n",
    "<br>It'll make your life easier, and your code prettier.\n",
    "<br><br>So, here are some rules in variable naming:\n",
    "- There are no spaces in variable names, neither are points, commas, semi-colons, colons, asterisks, or other symbols (underscore is the only exception).\n",
    "- Usually variables start with small letters\n",
    "- And if the variable name contains more than one word, we just use capital on the next word. As an example: dateOfBirth is the name of a variable.\n",
    "- Don't start any variable name with a number. 1word is **not ok**, but word1 is.\n",
    "- Keep variable names meaningful. If everything is named \"a\", \"b\" or \"c\" you wont know what you're writing about later."
   ]
  },
  {
   "cell_type": "markdown",
   "metadata": {},
   "source": [
    "And now let's\n",
    "# Manipulate numbers in Python\n",
    "That same variable that we have just assigned a value to (*num*), will serve us right.\n",
    "<br>We can start by printing it, so we can check the value"
   ]
  },
  {
   "cell_type": "code",
   "execution_count": 11,
   "metadata": {},
   "outputs": [
    {
     "name": "stdout",
     "output_type": "stream",
     "text": [
      "5\n"
     ]
    }
   ],
   "source": [
    "print(num)"
   ]
  },
  {
   "cell_type": "markdown",
   "metadata": {},
   "source": [
    "Great! It's indeed 5, just like we expected.\n",
    "<br>Now let's add 1 to this variable and see what happens"
   ]
  },
  {
   "cell_type": "code",
   "execution_count": 12,
   "metadata": {},
   "outputs": [
    {
     "data": {
      "text/plain": [
       "6"
      ]
     },
     "execution_count": 12,
     "metadata": {},
     "output_type": "execute_result"
    }
   ],
   "source": [
    "num+1"
   ]
  },
  {
   "cell_type": "markdown",
   "metadata": {},
   "source": [
    "We can also mutiply it. You can try multiplying our variable by 3, for example."
   ]
  },
  {
   "cell_type": "code",
   "execution_count": 13,
   "metadata": {},
   "outputs": [
    {
     "data": {
      "text/plain": [
       "15"
      ]
     },
     "execution_count": 13,
     "metadata": {},
     "output_type": "execute_result"
    }
   ],
   "source": [
    "num*3"
   ]
  },
  {
   "cell_type": "markdown",
   "metadata": {},
   "source": [
    "We could also elevate it to the power of 3. How do we do it? \n",
    "<br>If we would write **a\\*\\*b**, this would mean **a** elevated to the power of **b**."
   ]
  },
  {
   "cell_type": "code",
   "execution_count": 14,
   "metadata": {},
   "outputs": [
    {
     "data": {
      "text/plain": [
       "125"
      ]
     },
     "execution_count": 14,
     "metadata": {},
     "output_type": "execute_result"
    }
   ],
   "source": [
    "num**3"
   ]
  },
  {
   "cell_type": "markdown",
   "metadata": {},
   "source": [
    "**But watch out for divisions!!!**\n",
    "<br>There are several to do divisions in Python 3 (yes, there are several versions of Python)\n",
    "<br>Let's start with the most common one, a simple division aka \"true division\". \n",
    "<br>Assing an odd number to the variable **x** and try dividing it by 2."
   ]
  },
  {
   "cell_type": "code",
   "execution_count": 15,
   "metadata": {},
   "outputs": [],
   "source": [
    "x=7"
   ]
  },
  {
   "cell_type": "code",
   "execution_count": 16,
   "metadata": {},
   "outputs": [
    {
     "data": {
      "text/plain": [
       "3.5"
      ]
     },
     "execution_count": 16,
     "metadata": {},
     "output_type": "execute_result"
    }
   ],
   "source": [
    "x/2"
   ]
  },
  {
   "cell_type": "markdown",
   "metadata": {},
   "source": [
    "What happened?\n",
    "<br>\n",
    "<br>What if we use **//** instead of **/**?"
   ]
  },
  {
   "cell_type": "code",
   "execution_count": 17,
   "metadata": {},
   "outputs": [
    {
     "data": {
      "text/plain": [
       "3"
      ]
     },
     "execution_count": 17,
     "metadata": {},
     "output_type": "execute_result"
    }
   ],
   "source": [
    "7//2"
   ]
  },
  {
   "cell_type": "markdown",
   "metadata": {},
   "source": [
    "What do you think it's happening?"
   ]
  },
  {
   "cell_type": "markdown",
   "metadata": {},
   "source": [
    "This type of division is called \"floor division\" and returns an integer.\n",
    "<br>There are other types of division, but let's move on for now."
   ]
  },
  {
   "cell_type": "markdown",
   "metadata": {},
   "source": [
    "### And what about more complex mathematical operations?\n",
    "For that, we should use a specific package called... *math*.\n",
    "<br>Wow, that name was a surprise :)\n",
    "###### Now let's incorporate that package, but how?\n",
    "Just type **import**, a space and the name of the package you'd like to import\n",
    "<br>Use the command in the box bellow."
   ]
  },
  {
   "cell_type": "code",
   "execution_count": 18,
   "metadata": {},
   "outputs": [],
   "source": [
    "import math"
   ]
  },
  {
   "cell_type": "markdown",
   "metadata": {},
   "source": [
    "And now you're good to go. \n",
    "<br>You can call *math* plus any function you want.\n",
    "<br>Every time you are not very aware of what functions a package has, I suggest the good and old <i>Google</i>.\n",
    "<br>In our case, I will give you a tip:\n",
    "<br><i>math.pi</i> gives you pi\n",
    "<br><i>math.sqrt</i> gives you the square root of a number - usage is pretty much <i>math.sqrt(number)</i>\n",
    "<br><br>Now lets test it ourselves.\n",
    "<br>Let's first print the value of pi"
   ]
  },
  {
   "cell_type": "code",
   "execution_count": 19,
   "metadata": {},
   "outputs": [
    {
     "name": "stdout",
     "output_type": "stream",
     "text": [
      "3.141592653589793\n"
     ]
    }
   ],
   "source": [
    "print(math.pi)"
   ]
  },
  {
   "cell_type": "markdown",
   "metadata": {},
   "source": [
    "<br>And now let's find our the square root of pi"
   ]
  },
  {
   "cell_type": "code",
   "execution_count": 20,
   "metadata": {},
   "outputs": [
    {
     "data": {
      "text/plain": [
       "1.7724538509055159"
      ]
     },
     "execution_count": 20,
     "metadata": {},
     "output_type": "execute_result"
    }
   ],
   "source": [
    "math.sqrt(math.pi)"
   ]
  },
  {
   "cell_type": "markdown",
   "metadata": {},
   "source": [
    "An import question that may have arisen is: how do I know what is available in any package?\n",
    "<br> As a scientist, I bet you know the answer: **Google**!!!\n",
    "<br> For example, search for [math documentation python](https://www.google.co.uk/search?q=math+documentation+python&oq=math+documentation+python&aqs=chrome..69i57.4064j1j7&sourceid=chrome&ie=UTF-8)\n",
    "<br>The very first entry tells you everything you need"
   ]
  },
  {
   "cell_type": "markdown",
   "metadata": {},
   "source": [
    "Enough about maths!\n",
    "Now let's..\n",
    "# Manipulate strings in Python\n",
    "Sometimes we want to add one string to another. How to do it?\n",
    "<br> First of all, let's get the name correctly: \"Adding one string to the other\" is called concatenation, and you can do it using a plus sign (+) between strings\n",
    "<br><br>Now it's your turn.. assign \"Hello\", a space (tip: it's \" \" - literally a space between quotes) and \"world\" to variables, add them together and print the whole thing"
   ]
  },
  {
   "cell_type": "code",
   "execution_count": 21,
   "metadata": {},
   "outputs": [],
   "source": [
    "h=\"Hello\""
   ]
  },
  {
   "cell_type": "code",
   "execution_count": 22,
   "metadata": {},
   "outputs": [],
   "source": [
    "sp=\" \""
   ]
  },
  {
   "cell_type": "code",
   "execution_count": 23,
   "metadata": {},
   "outputs": [],
   "source": [
    "w=\"world\""
   ]
  },
  {
   "cell_type": "code",
   "execution_count": 24,
   "metadata": {},
   "outputs": [],
   "source": [
    "phrase=h+sp+w"
   ]
  },
  {
   "cell_type": "code",
   "execution_count": 25,
   "metadata": {},
   "outputs": [
    {
     "name": "stdout",
     "output_type": "stream",
     "text": [
      "Hello world\n"
     ]
    }
   ],
   "source": [
    "print(phrase)"
   ]
  },
  {
   "cell_type": "markdown",
   "metadata": {},
   "source": [
    "There are other operations you can do with strings (split them in a particular character, finding a specific pattern, but we won't cover that)"
   ]
  }
 ],
 "metadata": {
  "kernelspec": {
   "display_name": "Python 3",
   "language": "python",
   "name": "python3"
  },
  "language_info": {
   "codemirror_mode": {
    "name": "ipython",
    "version": 3
   },
   "file_extension": ".py",
   "mimetype": "text/x-python",
   "name": "python",
   "nbconvert_exporter": "python",
   "pygments_lexer": "ipython3",
   "version": "3.6.8"
  }
 },
 "nbformat": 4,
 "nbformat_minor": 2
}
