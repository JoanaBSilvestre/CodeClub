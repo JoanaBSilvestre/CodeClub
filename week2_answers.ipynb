{
 "cells": [
  {
   "cell_type": "markdown",
   "metadata": {},
   "source": [
    "# Welcome to the third session of the code club! \n",
    "Let's start, once more, with some recap\n",
    "<br>Make a list of countries containing 4 countries."
   ]
  },
  {
   "cell_type": "code",
   "execution_count": 1,
   "metadata": {},
   "outputs": [],
   "source": [
    "countries=[\"Scotland\", \"Egypt\", \"Japan\", \"Chile\"]"
   ]
  },
  {
   "cell_type": "markdown",
   "metadata": {},
   "source": [
    "Now add \"Botswana\" to first position of the list"
   ]
  },
  {
   "cell_type": "code",
   "execution_count": 5,
   "metadata": {},
   "outputs": [],
   "source": [
    "countries.insert(0,\"Botswana\")"
   ]
  },
  {
   "cell_type": "code",
   "execution_count": 6,
   "metadata": {},
   "outputs": [
    {
     "name": "stdout",
     "output_type": "stream",
     "text": [
      "['Botswana', 'Scotland', 'Botswana', 'Egypt', 'Japan', 'Chile']\n"
     ]
    }
   ],
   "source": [
    "print(countries)"
   ]
  },
  {
   "cell_type": "markdown",
   "metadata": {},
   "source": [
    "Retrieve the last country of the list, and print it together with the sentence: \"I want to visit\"\n",
    "<br> Don't forget to add a space between the them."
   ]
  },
  {
   "cell_type": "code",
   "execution_count": 7,
   "metadata": {},
   "outputs": [],
   "source": [
    "c=countries[-1]"
   ]
  },
  {
   "cell_type": "code",
   "execution_count": 8,
   "metadata": {},
   "outputs": [
    {
     "name": "stdout",
     "output_type": "stream",
     "text": [
      "I want to visit Chile\n"
     ]
    }
   ],
   "source": [
    "print(\"I want to visit \"+c)"
   ]
  },
  {
   "cell_type": "code",
   "execution_count": null,
   "metadata": {},
   "outputs": [],
   "source": []
  },
  {
   "cell_type": "markdown",
   "metadata": {},
   "source": [
    "How was that? Did we have any difficulties?\n",
    "<br>If not, let's move on to new things"
   ]
  },
  {
   "cell_type": "markdown",
   "metadata": {},
   "source": [
    "## Repeating stuff\n",
    "Now let's say you have 2 lists.\n",
    "<br>The first one contains names of genes involved in sensing the double strand break.\n",
    "<br>The second one contains the chromosome in which those genes are located."
   ]
  },
  {
   "cell_type": "code",
   "execution_count": 9,
   "metadata": {},
   "outputs": [],
   "source": [
    "sensDoubleStrandBreak=[\"NBN\", \"MRE11\", \"KPNA2\", \"ATM\", \"RAD50\"]"
   ]
  },
  {
   "cell_type": "code",
   "execution_count": 10,
   "metadata": {},
   "outputs": [],
   "source": [
    "chrLocalisation=[\"8\", \"11\", \"17\", \"11\", \"5\"]"
   ]
  },
  {
   "cell_type": "markdown",
   "metadata": {},
   "source": [
    "Then let's say you want to print \"The gene\" (and then the name of the gene) \"is on chromosome\" (and then chromosome number). What would you do?\n",
    "<br>\n",
    "Let's try."
   ]
  },
  {
   "cell_type": "code",
   "execution_count": 12,
   "metadata": {},
   "outputs": [],
   "source": [
    "s1=\"The gene \""
   ]
  },
  {
   "cell_type": "code",
   "execution_count": 13,
   "metadata": {},
   "outputs": [],
   "source": [
    "s2=\" is con chromosome \""
   ]
  },
  {
   "cell_type": "code",
   "execution_count": 15,
   "metadata": {},
   "outputs": [
    {
     "name": "stdout",
     "output_type": "stream",
     "text": [
      "The gene NBN is con chromosome 8\n"
     ]
    }
   ],
   "source": [
    "print(s1+sensDoubleStrandBreak[0]+s2+chrLocalisation[0])"
   ]
  },
  {
   "cell_type": "code",
   "execution_count": 16,
   "metadata": {},
   "outputs": [
    {
     "name": "stdout",
     "output_type": "stream",
     "text": [
      "The gene MRE11 is con chromosome 11\n"
     ]
    }
   ],
   "source": [
    "print(s1+sensDoubleStrandBreak[1]+s2+chrLocalisation[1])"
   ]
  },
  {
   "cell_type": "code",
   "execution_count": 17,
   "metadata": {},
   "outputs": [
    {
     "name": "stdout",
     "output_type": "stream",
     "text": [
      "The gene KPNA2 is con chromosome 17\n"
     ]
    }
   ],
   "source": [
    "print(s1+sensDoubleStrandBreak[2]+s2+chrLocalisation[2])"
   ]
  },
  {
   "cell_type": "code",
   "execution_count": 18,
   "metadata": {},
   "outputs": [
    {
     "name": "stdout",
     "output_type": "stream",
     "text": [
      "The gene ATM is con chromosome 5\n"
     ]
    }
   ],
   "source": [
    "print(s1+sensDoubleStrandBreak[3]+s2+chrLocalisation[4])"
   ]
  },
  {
   "cell_type": "code",
   "execution_count": null,
   "metadata": {},
   "outputs": [],
   "source": []
  },
  {
   "cell_type": "code",
   "execution_count": null,
   "metadata": {},
   "outputs": [],
   "source": []
  },
  {
   "cell_type": "markdown",
   "metadata": {},
   "source": [
    "It's pretty exhausting and A LOT of copy pasting, isn't it?\n",
    "<br>What if you had to make a decision? Let's say you print the name of the gene only if it appears on chromosome 5.\n",
    "<br>Can you say in plain english what you would do?"
   ]
  },
  {
   "cell_type": "markdown",
   "metadata": {},
   "source": [
    "Before we formally talk about this types of automation, let's have a good time and head to... Scratch [https://scratch.mit.edu/projects/editor/?tutorial=getStarted]"
   ]
  }
 ],
 "metadata": {
  "kernelspec": {
   "display_name": "Python 3",
   "language": "python",
   "name": "python3"
  },
  "language_info": {
   "codemirror_mode": {
    "name": "ipython",
    "version": 3
   },
   "file_extension": ".py",
   "mimetype": "text/x-python",
   "name": "python",
   "nbconvert_exporter": "python",
   "pygments_lexer": "ipython3",
   "version": "3.6.8"
  }
 },
 "nbformat": 4,
 "nbformat_minor": 2
}
