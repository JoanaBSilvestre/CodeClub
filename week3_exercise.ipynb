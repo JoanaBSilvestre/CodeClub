{
 "cells": [
  {
   "cell_type": "markdown",
   "metadata": {},
   "source": [
    "# Welcome to the fourth session of the code club! \n",
    "It's recap time!\n",
    "<br><br>Explain to your colleagues what was your concept for your little game and some of the functions you used.\n",
    "<br>Did you use loops? What kind?\n",
    "<br>Did you do any decisions based on a condition?\n",
    "<br><br>We will now formalise all of this"
   ]
  },
  {
   "cell_type": "markdown",
   "metadata": {},
   "source": [
    "## For loops\n",
    "Let's say we have that gene list from last session:"
   ]
  },
  {
   "cell_type": "code",
   "execution_count": 1,
   "metadata": {},
   "outputs": [],
   "source": [
    "sensDoubleStrandBreak=[\"NBN\", \"MRE11\", \"KPNA2\", \"ATM\", \"RAD50\"]"
   ]
  },
  {
   "cell_type": "markdown",
   "metadata": {},
   "source": [
    "And we want to print every element of the list, each on one line"
   ]
  },
  {
   "cell_type": "code",
   "execution_count": 2,
   "metadata": {},
   "outputs": [
    {
     "name": "stdout",
     "output_type": "stream",
     "text": [
      "NBN\n",
      "MRE11\n",
      "KPNA2\n",
      "ATM\n",
      "RAD50\n"
     ]
    }
   ],
   "source": [
    "for x in sensDoubleStrandBreak:\n",
    "    print(x)"
   ]
  },
  {
   "cell_type": "markdown",
   "metadata": {},
   "source": [
    "Now let's check this code and find out what each thing is doing.."
   ]
  },
  {
   "cell_type": "markdown",
   "metadata": {},
   "source": [
    "what is the **x** doing there?\n",
    "<br>what comes in the end of the code?\n",
    "<br>What about the spacing for the second line?"
   ]
  },
  {
   "cell_type": "markdown",
   "metadata": {},
   "source": [
    "## Now you do it!\n",
    "Let's put one extra list there...\n",
    "<br>This is the chromosome localisation one.."
   ]
  },
  {
   "cell_type": "code",
   "execution_count": 3,
   "metadata": {},
   "outputs": [],
   "source": [
    "chrLocalisation=[\"8\", \"11\", \"17\", \"11\", \"5\"]"
   ]
  },
  {
   "cell_type": "markdown",
   "metadata": {},
   "source": [
    "Go ahead and print one element of this list at a time"
   ]
  },
  {
   "cell_type": "code",
   "execution_count": 4,
   "metadata": {},
   "outputs": [
    {
     "name": "stdout",
     "output_type": "stream",
     "text": [
      "8\n",
      "11\n",
      "17\n",
      "11\n",
      "5\n"
     ]
    }
   ],
   "source": [
    "for c in chrLocalisation:\n",
    "    print(c)"
   ]
  },
  {
   "cell_type": "markdown",
   "metadata": {},
   "source": [
    "Now, what if we wanted to print numbers 0 to 3, one at a time?\n",
    "<br>The first solution would be to create a list from zero to three and use the same strategy as above."
   ]
  },
  {
   "cell_type": "code",
   "execution_count": 5,
   "metadata": {},
   "outputs": [
    {
     "name": "stdout",
     "output_type": "stream",
     "text": [
      "0\n",
      "1\n",
      "2\n",
      "3\n"
     ]
    }
   ],
   "source": [
    "l=[0,1,2,3]\n",
    "for n in l:\n",
    "    print(n)"
   ]
  },
  {
   "cell_type": "markdown",
   "metadata": {},
   "source": [
    "But what if we could have a notation that meant an interval?\n",
    "<br>Lucky for us, we do?\n",
    "<br>I hearby present you with the word **range**\n",
    "<br>Substitute **NUMBER** by an actual number, uncomment the code and see what happens"
   ]
  },
  {
   "cell_type": "code",
   "execution_count": 6,
   "metadata": {},
   "outputs": [
    {
     "name": "stdout",
     "output_type": "stream",
     "text": [
      "0\n",
      "1\n",
      "2\n"
     ]
    }
   ],
   "source": [
    "for x in range(3):\n",
    "    print(x)"
   ]
  },
  {
   "cell_type": "markdown",
   "metadata": {},
   "source": [
    "Also, range can be used for an interval that doesn't start at zero..."
   ]
  },
  {
   "cell_type": "code",
   "execution_count": 7,
   "metadata": {},
   "outputs": [
    {
     "name": "stdout",
     "output_type": "stream",
     "text": [
      "2\n",
      "3\n",
      "4\n"
     ]
    }
   ],
   "source": [
    "#test by exectuting the code bellow\n",
    "#substitute A and B by actual numbers\n",
    "for x in range(2,5):\n",
    "    print(x)"
   ]
  },
  {
   "cell_type": "markdown",
   "metadata": {},
   "source": [
    "Remember that we can access an element of a list, but typing the name of the list, and the index (aka position) between square brackets?\n",
    "<br>Let's practice: print the second element of **sensDoubleStrandBreak**"
   ]
  },
  {
   "cell_type": "code",
   "execution_count": 8,
   "metadata": {},
   "outputs": [
    {
     "data": {
      "text/plain": [
       "'MRE11'"
      ]
     },
     "execution_count": 8,
     "metadata": {},
     "output_type": "execute_result"
    }
   ],
   "source": [
    "sensDoubleStrandBreak[1]"
   ]
  },
  {
   "cell_type": "markdown",
   "metadata": {},
   "source": [
    "Now, how to we print all the elements of a list, one by one, using the indices?"
   ]
  },
  {
   "cell_type": "markdown",
   "metadata": {},
   "source": [
    "Let's start reminding ourselves of how we get the length of a list.\n",
    "<br>What is the length of **sensDoubleStrandBreak**?"
   ]
  },
  {
   "cell_type": "code",
   "execution_count": 9,
   "metadata": {},
   "outputs": [
    {
     "data": {
      "text/plain": [
       "5"
      ]
     },
     "execution_count": 9,
     "metadata": {},
     "output_type": "execute_result"
    }
   ],
   "source": [
    "len(sensDoubleStrandBreak)"
   ]
  },
  {
   "cell_type": "markdown",
   "metadata": {},
   "source": [
    "How to we print the numbers, of a range, using the length of **sensDoubleStrandBreak**?"
   ]
  },
  {
   "cell_type": "code",
   "execution_count": 10,
   "metadata": {},
   "outputs": [
    {
     "name": "stdout",
     "output_type": "stream",
     "text": [
      "0\n",
      "1\n",
      "2\n",
      "3\n",
      "4\n"
     ]
    }
   ],
   "source": [
    "for i in range(len(sensDoubleStrandBreak)):\n",
    "    print(i)"
   ]
  },
  {
   "cell_type": "markdown",
   "metadata": {},
   "source": [
    "Getting, all this information together, write some code to print, one by one, all elements of **sensDoubleStrandBreak**, using the indices."
   ]
  },
  {
   "cell_type": "code",
   "execution_count": 11,
   "metadata": {},
   "outputs": [
    {
     "name": "stdout",
     "output_type": "stream",
     "text": [
      "NBN\n",
      "MRE11\n",
      "KPNA2\n",
      "ATM\n",
      "RAD50\n"
     ]
    }
   ],
   "source": [
    "for i in range(len(sensDoubleStrandBreak)):\n",
    "    print(sensDoubleStrandBreak[i])"
   ]
  },
  {
   "cell_type": "markdown",
   "metadata": {},
   "source": [
    "And with this, you have all you need to the exercise from last week, in a very efficient way:\n",
    "<br>Given **sensDoubleStrandBreak** and **chrLocalisation**, print the gene and the chromosome localisation, on the same line."
   ]
  },
  {
   "cell_type": "code",
   "execution_count": 12,
   "metadata": {},
   "outputs": [
    {
     "name": "stdout",
     "output_type": "stream",
     "text": [
      "NBN 8\n",
      "MRE11 11\n",
      "KPNA2 17\n",
      "ATM 11\n",
      "RAD50 5\n"
     ]
    }
   ],
   "source": [
    "for i in range(len(sensDoubleStrandBreak)):\n",
    "    print(sensDoubleStrandBreak[i],chrLocalisation[i])"
   ]
  },
  {
   "cell_type": "markdown",
   "metadata": {},
   "source": [
    "So, these were **FOR** loops.\n",
    "<br>What would you use them for? Give me an example.\n",
    "<br><br>There are other types of loops and we will dive into them very soon\n",
    "## While loops\n",
    "A **FOR** loop executes a command for a determined amount of time.\n",
    "<br>A **WHILE** loops executes a command while the a certain condition remais true"
   ]
  },
  {
   "cell_type": "code",
   "execution_count": 13,
   "metadata": {},
   "outputs": [
    {
     "name": "stdout",
     "output_type": "stream",
     "text": [
      "0\n",
      "1\n",
      "2\n",
      "3\n",
      "4\n"
     ]
    }
   ],
   "source": [
    "#as an example\n",
    "i=0\n",
    "while i < 5:\n",
    "    print(i)\n",
    "    i= i+1"
   ]
  },
  {
   "cell_type": "markdown",
   "metadata": {},
   "source": [
    "What is every command doing above?"
   ]
  },
  {
   "cell_type": "markdown",
   "metadata": {},
   "source": [
    "While the condition is being satisfied, the loop will run.\n",
    "<br>This might create some problems.. If you create a condition that will always and forever be satisfied, you will loop eternally.\n",
    "<br>Your computer won't like it."
   ]
  },
  {
   "cell_type": "markdown",
   "metadata": {},
   "source": [
    "So, a while loop needs an escape somehow..\n",
    "<br>Can anyone remember a loop they used in scratch that was a **while loop**?\n",
    "<br>Now *translate* that loop to a formal notation.\n",
    "<br>Don't worry, this doesn't have to work in your jupyter notebook. We're doing this in *pseudocode*"
   ]
  },
  {
   "cell_type": "markdown",
   "metadata": {},
   "source": []
  },
  {
   "cell_type": "markdown",
   "metadata": {},
   "source": []
  },
  {
   "cell_type": "markdown",
   "metadata": {},
   "source": []
  },
  {
   "cell_type": "markdown",
   "metadata": {},
   "source": [
    "## If clauses\n",
    "There is also another way to stop a while loop.. \n",
    "<br>By introducing an **if clause**\n",
    "<br>This means, if something happens, you do A, or, if something else happens, you do B. "
   ]
  },
  {
   "cell_type": "code",
   "execution_count": 10,
   "metadata": {},
   "outputs": [
    {
     "name": "stdout",
     "output_type": "stream",
     "text": [
      "5\n"
     ]
    }
   ],
   "source": [
    "#A little example\n",
    "isFive = False\n",
    "i=0\n",
    "while isFive == False:\n",
    "    i=i+1\n",
    "    if i == 5:\n",
    "        print(i)\n",
    "        break"
   ]
  },
  {
   "cell_type": "markdown",
   "metadata": {},
   "source": [
    "What is each part of the code doing there?\n",
    "<br>And also, what is **isFive**?!?!?"
   ]
  },
  {
   "cell_type": "markdown",
   "metadata": {},
   "source": [
    "Remember that ages ago we said that there was avariable called **boolean**? \n",
    "<br>It is a variable that only holds one of the two values: **True** or **False**"
   ]
  },
  {
   "cell_type": "markdown",
   "metadata": {},
   "source": [
    "Tip: we usually name booleans with things like \"isFinished\" or \"hasArrived\"\n",
    "<br><br>Has any of you used a boolean in your scratch projects?\n",
    "<br>Write a **for** or **while** loop and add an **if** clause using a boolean"
   ]
  },
  {
   "cell_type": "markdown",
   "metadata": {},
   "source": [
    "To help you out with this, here a list of the operators you can use:"
   ]
  },
  {
   "cell_type": "markdown",
   "metadata": {},
   "source": [
    "| operator | meaning | example |\n",
    "| ---- | ---- | ---- |\n",
    "| == | if two variables are equal, then condition is true | (a == b) is false, (a == a) is true |\n",
    "| != | if two variables are NOT equal, then condition is true | (a != b) is true, (a != a) is false |\n",
    "| <> | as above | as above |\n",
    "| > | if value on the left is greater than value on the right, then condition is true | (1 > 2) is false, (2 > 1) is true |\n",
    "| < | if value on the right is greater than value on the left, then condition is true | (1 < 2) is true, (2 < 1) is false |\n",
    "| >= | if value on the left is greater or equal than value on the right, then condition is true | (2 >= 2) is true, (2 >= 1) is true, (0 >= 1) is false |\n",
    "| <= | if value on the right is greater or equal than value on the left, then condition is true | (2 <= 2) is true, (2 <= 1) is false, (0 <= 1) is true |"
   ]
  },
  {
   "cell_type": "markdown",
   "metadata": {},
   "source": [
    "**IMPORTANT: = is different from ==**\n",
    "<br>While one equal sign means assignment, two equal signs tests for equality between the terms in each side"
   ]
  },
  {
   "cell_type": "code",
   "execution_count": 16,
   "metadata": {},
   "outputs": [
    {
     "name": "stdout",
     "output_type": "stream",
     "text": [
      "2 is even\n",
      "4 is even\n",
      "6 is even\n",
      "8 is even\n"
     ]
    }
   ],
   "source": [
    "for i in range(1,10):\n",
    "    if i % 2 == 0:\n",
    "        print(i,\"is even\")"
   ]
  },
  {
   "cell_type": "code",
   "execution_count": 1,
   "metadata": {},
   "outputs": [
    {
     "name": "stdout",
     "output_type": "stream",
     "text": [
      "1\n",
      "2\n",
      "3\n",
      "4\n",
      "5\n",
      "6\n",
      "7\n",
      "8\n",
      "9\n"
     ]
    }
   ],
   "source": [
    "isTen = False\n",
    "i=1\n",
    "while isTen == False:\n",
    "    print(i)\n",
    "    i = i+1\n",
    "    if i==10:\n",
    "        isTen = True  "
   ]
  },
  {
   "cell_type": "code",
   "execution_count": null,
   "metadata": {},
   "outputs": [],
   "source": []
  },
  {
   "cell_type": "code",
   "execution_count": null,
   "metadata": {},
   "outputs": [],
   "source": []
  },
  {
   "cell_type": "markdown",
   "metadata": {},
   "source": [
    "Now, if you had to write your code for your game, would you have an idea of how to do it using Python?\n",
    "<br>\n",
    "#### Next class, we will take a little step aside and talk about tables and how to work with them."
   ]
  }
 ],
 "metadata": {
  "kernelspec": {
   "display_name": "Python 3",
   "language": "python",
   "name": "python3"
  },
  "language_info": {
   "codemirror_mode": {
    "name": "ipython",
    "version": 3
   },
   "file_extension": ".py",
   "mimetype": "text/x-python",
   "name": "python",
   "nbconvert_exporter": "python",
   "pygments_lexer": "ipython3",
   "version": "3.6.7"
  }
 },
 "nbformat": 4,
 "nbformat_minor": 2
}
